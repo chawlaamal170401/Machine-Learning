{
 "cells": [
  {
   "cell_type": "markdown",
   "id": "5512cae3",
   "metadata": {},
   "source": [
    "# ML Lab-5 Assessment And Practice\n",
    "## Practice"
   ]
  },
  {
   "cell_type": "code",
   "execution_count": 1,
   "id": "836654d8",
   "metadata": {},
   "outputs": [],
   "source": [
    "import numpy as np\n",
    "import pandas as pd\n",
    "from sklearn.model_selection import train_test_split\n",
    "from sklearn.linear_model import LinearRegression\n",
    "from sklearn.preprocessing import StandardScaler\n",
    "import matplotlib.pyplot as plt\n",
    "import seaborn as sns"
   ]
  },
  {
   "cell_type": "code",
   "execution_count": 2,
   "id": "15c182bd",
   "metadata": {},
   "outputs": [],
   "source": [
    "data = np.loadtxt(\"data.csv\", delimiter=',')"
   ]
  },
  {
   "cell_type": "code",
   "execution_count": 3,
   "id": "f7e369be",
   "metadata": {},
   "outputs": [],
   "source": [
    "# print(data)\n",
    "X = data[:, 0]\n",
    "Y = data[:, 1]"
   ]
  },
  {
   "cell_type": "code",
   "execution_count": 4,
   "id": "3fb667a3",
   "metadata": {},
   "outputs": [
    {
     "data": {
      "text/plain": [
       "((100,), (100,))"
      ]
     },
     "execution_count": 4,
     "metadata": {},
     "output_type": "execute_result"
    }
   ],
   "source": [
    "X.shape, Y.shape\n",
    "# print(type(X))"
   ]
  },
  {
   "cell_type": "code",
   "execution_count": 5,
   "id": "c4d1171e",
   "metadata": {},
   "outputs": [],
   "source": [
    "x_train, x_test, y_train, y_test = train_test_split(X, Y, test_size=0.3)"
   ]
  },
  {
   "cell_type": "code",
   "execution_count": 6,
   "id": "7a309956",
   "metadata": {},
   "outputs": [
    {
     "data": {
      "text/plain": [
       "((70,), (70,))"
      ]
     },
     "execution_count": 6,
     "metadata": {},
     "output_type": "execute_result"
    }
   ],
   "source": [
    "x_train.shape, y_train.shape"
   ]
  },
  {
   "cell_type": "code",
   "execution_count": 7,
   "id": "8d37e785",
   "metadata": {},
   "outputs": [],
   "source": [
    "def fit(x_train, y_train):\n",
    "    numerator = (x_train*y_train).mean() - x_train.mean()*y_train.mean()\n",
    "    denominator = (x_train**2).mean() - (x_train.mean())**2\n",
    "    \n",
    "    m = (numerator)/(denominator)\n",
    "    c = y_train.mean() - m*x_train.mean()\n",
    "    \n",
    "    return m, c"
   ]
  },
  {
   "cell_type": "code",
   "execution_count": 8,
   "id": "df32444f",
   "metadata": {},
   "outputs": [],
   "source": [
    "def score(y_pred, y_truth):\n",
    "    u = ((y_truth - y_pred)**2).sum()\n",
    "    v = ((y_truth - y_truth.mean())**2).sum()\n",
    "    \n",
    "    ratio = u/v\n",
    "    return 1-ratio"
   ]
  },
  {
   "cell_type": "code",
   "execution_count": 9,
   "id": "1de859e5",
   "metadata": {},
   "outputs": [],
   "source": [
    "def predict(x, m, c):\n",
    "    return m*x + c"
   ]
  },
  {
   "cell_type": "code",
   "execution_count": 10,
   "id": "eb1768c7",
   "metadata": {},
   "outputs": [],
   "source": [
    "def cost(x, y, m, c):\n",
    "    return ((y-(m*x)-c)**2).mean()"
   ]
  },
  {
   "cell_type": "code",
   "execution_count": 11,
   "id": "12eb62bc",
   "metadata": {},
   "outputs": [
    {
     "name": "stdout",
     "output_type": "stream",
     "text": [
      "Test Score:  0.5587683097674403\n",
      "Train Score:  0.6094863135543196\n",
      "M, C:  1.3695538235109581 5.1623801444003306\n",
      "Cost on Training Data:  113.85941413059459\n"
     ]
    }
   ],
   "source": [
    "m, c = fit(x_train, y_train)\n",
    "y_test_pred = predict(x_test, m, c)\n",
    "test_score = score(y_test_pred, y_test)\n",
    "print(\"Test Score: \", test_score)\n",
    "\n",
    "y_train_pred = predict(x_train, m, c)\n",
    "train_score = score(y_train_pred, y_train)\n",
    "print(\"Train Score: \", train_score)\n",
    "\n",
    "print(\"M, C: \", m, c)\n",
    "\n",
    "cost_training = cost(x_train, y_train, m, c)\n",
    "print(\"Cost on Training Data: \", cost_training)"
   ]
  },
  {
   "cell_type": "code",
   "execution_count": 12,
   "id": "7a4006cb",
   "metadata": {},
   "outputs": [
    {
     "data": {
      "image/png": "[encoded data removed]",
      "text/plain": [
       "<Figure size 432x288 with 1 Axes>"
      ]
     },
     "metadata": {
      "needs_background": "light"
     },
     "output_type": "display_data"
    },
    {
     "data": {
      "image/png": "[encoded data removed]",
      "text/plain": [
       "<Figure size 432x288 with 1 Axes>"
      ]
     },
     "metadata": {
      "needs_background": "light"
     },
     "output_type": "display_data"
    }
   ],
   "source": [
    "plt.scatter(x_train, y_train)\n",
    "plt.plot(x_train, y_train_pred, 'g')\n",
    "plt.title(\"Train Results\")\n",
    "plt.show()\n",
    "\n",
    "plt.scatter(x_test, y_test)\n",
    "plt.plot(x_test, y_test_pred, 'r')\n",
    "plt.title(\"Test Results\")\n",
    "plt.show()"
   ]
  },
  {
   "cell_type": "code",
   "execution_count": 13,
   "id": "9296023e",
   "metadata": {},
   "outputs": [
    {
     "name": "stdout",
     "output_type": "stream",
     "text": [
      "M, C:  1.369553823510966 5.162380144399947\n",
      "Test Score:  0.5587683097674394\n"
     ]
    }
   ],
   "source": [
    "# from sklearn inbuilt model\n",
    "alg = LinearRegression()\n",
    "train_1d = x_train.reshape(-1, 1)\n",
    "alg.fit(train_1d, y_train)\n",
    "\n",
    "test_1d = x_test.reshape(-1, 1)\n",
    "y_pred = alg.predict(test_1d)\n",
    "\n",
    "m = alg.coef_[0]\n",
    "c = alg.intercept_\n",
    "\n",
    "print(\"M, C: \", m, c)\n",
    "\n",
    "print(\"Test Score: \",alg.score(test_1d, y_test))"
   ]
  },
  {
   "cell_type": "markdown",
   "id": "15748f9c",
   "metadata": {},
   "source": [
    "## Assesment - 1"
   ]
  },
  {
   "cell_type": "code",
   "execution_count": 14,
   "id": "408f1058",
   "metadata": {},
   "outputs": [],
   "source": [
    "salary_df = pd.read_csv(\"Salary_Data.csv\")"
   ]
  },
  {
   "cell_type": "code",
   "execution_count": 15,
   "id": "302c0930",
   "metadata": {},
   "outputs": [
    {
     "data": {
      "text/html": [
       "<div>\n",
       "<style scoped>\n",
       "    .dataframe tbody tr th:only-of-type {\n",
       "        vertical-align: middle;\n",
       "    }\n",
       "\n",
       "    .dataframe tbody tr th {\n",
       "        vertical-align: top;\n",
       "    }\n",
       "\n",
       "    .dataframe thead th {\n",
       "        text-align: right;\n",
       "    }\n",
       "</style>\n",
       "<table border=\"1\" class=\"dataframe\">\n",
       "  <thead>\n",
       "    <tr style=\"text-align: right;\">\n",
       "      <th></th>\n",
       "      <th>YearsExperience</th>\n",
       "      <th>Salary</th>\n",
       "    </tr>\n",
       "  </thead>\n",
       "  <tbody>\n",
       "    <tr>\n",
       "      <th>0</th>\n",
       "      <td>1.1</td>\n",
       "      <td>39343.0</td>\n",
       "    </tr>\n",
       "    <tr>\n",
       "      <th>1</th>\n",
       "      <td>1.3</td>\n",
       "      <td>46205.0</td>\n",
       "    </tr>\n",
       "    <tr>\n",
       "      <th>2</th>\n",
       "      <td>1.5</td>\n",
       "      <td>37731.0</td>\n",
       "    </tr>\n",
       "    <tr>\n",
       "      <th>3</th>\n",
       "      <td>2.0</td>\n",
       "      <td>43525.0</td>\n",
       "    </tr>\n",
       "    <tr>\n",
       "      <th>4</th>\n",
       "      <td>2.2</td>\n",
       "      <td>39891.0</td>\n",
       "    </tr>\n",
       "  </tbody>\n",
       "</table>\n",
       "</div>"
      ],
      "text/plain": [
       "   YearsExperience   Salary\n",
       "0              1.1  39343.0\n",
       "1              1.3  46205.0\n",
       "2              1.5  37731.0\n",
       "3              2.0  43525.0\n",
       "4              2.2  39891.0"
      ]
     },
     "execution_count": 15,
     "metadata": {},
     "output_type": "execute_result"
    }
   ],
   "source": [
    "salary_df.head()"
   ]
  },
  {
   "cell_type": "code",
   "execution_count": 16,
   "id": "e3066cb5",
   "metadata": {},
   "outputs": [
    {
     "data": {
      "text/html": [
       "<div>\n",
       "<style scoped>\n",
       "    .dataframe tbody tr th:only-of-type {\n",
       "        vertical-align: middle;\n",
       "    }\n",
       "\n",
       "    .dataframe tbody tr th {\n",
       "        vertical-align: top;\n",
       "    }\n",
       "\n",
       "    .dataframe thead th {\n",
       "        text-align: right;\n",
       "    }\n",
       "</style>\n",
       "<table border=\"1\" class=\"dataframe\">\n",
       "  <thead>\n",
       "    <tr style=\"text-align: right;\">\n",
       "      <th></th>\n",
       "      <th>YearsExperience</th>\n",
       "      <th>Salary</th>\n",
       "    </tr>\n",
       "  </thead>\n",
       "  <tbody>\n",
       "    <tr>\n",
       "      <th>count</th>\n",
       "      <td>30.000000</td>\n",
       "      <td>30.000000</td>\n",
       "    </tr>\n",
       "    <tr>\n",
       "      <th>mean</th>\n",
       "      <td>5.313333</td>\n",
       "      <td>76003.000000</td>\n",
       "    </tr>\n",
       "    <tr>\n",
       "      <th>std</th>\n",
       "      <td>2.837888</td>\n",
       "      <td>27414.429785</td>\n",
       "    </tr>\n",
       "    <tr>\n",
       "      <th>min</th>\n",
       "      <td>1.100000</td>\n",
       "      <td>37731.000000</td>\n",
       "    </tr>\n",
       "    <tr>\n",
       "      <th>25%</th>\n",
       "      <td>3.200000</td>\n",
       "      <td>56720.750000</td>\n",
       "    </tr>\n",
       "    <tr>\n",
       "      <th>50%</th>\n",
       "      <td>4.700000</td>\n",
       "      <td>65237.000000</td>\n",
       "    </tr>\n",
       "    <tr>\n",
       "      <th>75%</th>\n",
       "      <td>7.700000</td>\n",
       "      <td>100544.750000</td>\n",
       "    </tr>\n",
       "    <tr>\n",
       "      <th>max</th>\n",
       "      <td>10.500000</td>\n",
       "      <td>122391.000000</td>\n",
       "    </tr>\n",
       "  </tbody>\n",
       "</table>\n",
       "</div>"
      ],
      "text/plain": [
       "       YearsExperience         Salary\n",
       "count        30.000000      30.000000\n",
       "mean          5.313333   76003.000000\n",
       "std           2.837888   27414.429785\n",
       "min           1.100000   37731.000000\n",
       "25%           3.200000   56720.750000\n",
       "50%           4.700000   65237.000000\n",
       "75%           7.700000  100544.750000\n",
       "max          10.500000  122391.000000"
      ]
     },
     "execution_count": 16,
     "metadata": {},
     "output_type": "execute_result"
    }
   ],
   "source": [
    "salary_df.describe()"
   ]
  },
  {
   "cell_type": "code",
   "execution_count": 17,
   "id": "8d55f4d0",
   "metadata": {},
   "outputs": [
    {
     "data": {
      "text/plain": [
       "(30, 2)"
      ]
     },
     "execution_count": 17,
     "metadata": {},
     "output_type": "execute_result"
    }
   ],
   "source": [
    "data = salary_df.to_numpy()\n",
    "data.shape"
   ]
  },
  {
   "cell_type": "code",
   "execution_count": 18,
   "id": "1475cb50",
   "metadata": {},
   "outputs": [
    {
     "data": {
      "text/plain": [
       "((30,), (30,))"
      ]
     },
     "execution_count": 18,
     "metadata": {},
     "output_type": "execute_result"
    }
   ],
   "source": [
    "X = data[:, 0]\n",
    "Y = data[:, 1]\n",
    "X.shape, Y.shape"
   ]
  },
  {
   "cell_type": "code",
   "execution_count": 19,
   "id": "a6f74352",
   "metadata": {},
   "outputs": [
    {
     "data": {
      "text/plain": [
       "((22,), (8,))"
      ]
     },
     "execution_count": 19,
     "metadata": {},
     "output_type": "execute_result"
    }
   ],
   "source": [
    "x_train, x_test, y_train, y_test = train_test_split(X, Y)\n",
    "x_train.shape, x_test.shape"
   ]
  },
  {
   "cell_type": "code",
   "execution_count": 20,
   "id": "88a7010f",
   "metadata": {},
   "outputs": [
    {
     "name": "stdout",
     "output_type": "stream",
     "text": [
      "M, C:  9474.425744194159 25299.627848898395\n",
      "Test Score:  0.9557959069592484\n"
     ]
    }
   ],
   "source": [
    "alg1 = LinearRegression()\n",
    "train_1d = x_train.reshape(-1, 1)\n",
    "alg1.fit(train_1d, y_train)\n",
    "\n",
    "test_1d = x_test.reshape(-1,1)\n",
    "y_pred = alg1.predict(test_1d)\n",
    "m, c = alg1.coef_[0], alg1.intercept_\n",
    "print(\"M, C: \", m, c)\n",
    "\n",
    "test_1d = x_test.reshape(-1, 1)\n",
    "test_score = alg1.score(test_1d, y_test)\n",
    "print(\"Test Score: \", test_score)"
   ]
  },
  {
   "cell_type": "code",
   "execution_count": 21,
   "id": "7695e70d",
   "metadata": {},
   "outputs": [
    {
     "data": {
      "image/png": "[encoded data removed]",
      "text/plain": [
       "<Figure size 432x288 with 1 Axes>"
      ]
     },
     "metadata": {
      "needs_background": "light"
     },
     "output_type": "display_data"
    }
   ],
   "source": [
    "plt.scatter(x_train, y_train)\n",
    "train_1d = x_train.reshape(-1, 1)\n",
    "plt.plot(train_1d, alg1.predict(train_1d), 'r')\n",
    "plt.xlabel(\"Years of Experience\")\n",
    "plt.ylabel(\"Salary\")\n",
    "plt.title(\"Years of Experience vs Salary(Train Set)\")\n",
    "plt.show()"
   ]
  },
  {
   "cell_type": "code",
   "execution_count": 22,
   "id": "9c53034b",
   "metadata": {},
   "outputs": [
    {
     "data": {
      "image/png": "[encoded data removed]",
      "text/plain": [
       "<Figure size 432x288 with 1 Axes>"
      ]
     },
     "metadata": {
      "needs_background": "light"
     },
     "output_type": "display_data"
    }
   ],
   "source": [
    "# Visualizing the results\n",
    "\n",
    "plt.scatter(x_test, y_test)\n",
    "plt.plot(test_1d, y_pred, 'r')\n",
    "plt.xlabel(\"Years of Experience\")\n",
    "plt.ylabel(\"Salary\")\n",
    "plt.title(\"Years of Experience vs Salary(Test Set)\")\n",
    "plt.show()"
   ]
  },
  {
   "cell_type": "markdown",
   "id": "13d8c149",
   "metadata": {},
   "source": [
    "## Assesment - 2"
   ]
  },
  {
   "cell_type": "code",
   "execution_count": 23,
   "id": "9f5fd054",
   "metadata": {},
   "outputs": [],
   "source": [
    "housing_df = pd.read_csv(\"housing.csv\")"
   ]
  },
  {
   "cell_type": "code",
   "execution_count": 24,
   "id": "25b3b3b0",
   "metadata": {},
   "outputs": [
    {
     "data": {
      "text/html": [
       "<div>\n",
       "<style scoped>\n",
       "    .dataframe tbody tr th:only-of-type {\n",
       "        vertical-align: middle;\n",
       "    }\n",
       "\n",
       "    .dataframe tbody tr th {\n",
       "        vertical-align: top;\n",
       "    }\n",
       "\n",
       "    .dataframe thead th {\n",
       "        text-align: right;\n",
       "    }\n",
       "</style>\n",
       "<table border=\"1\" class=\"dataframe\">\n",
       "  <thead>\n",
       "    <tr style=\"text-align: right;\">\n",
       "      <th></th>\n",
       "      <th>longitude</th>\n",
       "      <th>latitude</th>\n",
       "      <th>housing_median_age</th>\n",
       "      <th>total_rooms</th>\n",
       "      <th>total_bedrooms</th>\n",
       "      <th>population</th>\n",
       "      <th>households</th>\n",
       "      <th>median_income</th>\n",
       "      <th>median_house_value</th>\n",
       "      <th>ocean_proximity</th>\n",
       "    </tr>\n",
       "  </thead>\n",
       "  <tbody>\n",
       "    <tr>\n",
       "      <th>0</th>\n",
       "      <td>-122.23</td>\n",
       "      <td>37.88</td>\n",
       "      <td>41.0</td>\n",
       "      <td>880.0</td>\n",
       "      <td>129.0</td>\n",
       "      <td>322.0</td>\n",
       "      <td>126.0</td>\n",
       "      <td>8.3252</td>\n",
       "      <td>452600.0</td>\n",
       "      <td>NEAR BAY</td>\n",
       "    </tr>\n",
       "    <tr>\n",
       "      <th>1</th>\n",
       "      <td>-122.22</td>\n",
       "      <td>37.86</td>\n",
       "      <td>21.0</td>\n",
       "      <td>7099.0</td>\n",
       "      <td>1106.0</td>\n",
       "      <td>2401.0</td>\n",
       "      <td>1138.0</td>\n",
       "      <td>8.3014</td>\n",
       "      <td>358500.0</td>\n",
       "      <td>NEAR BAY</td>\n",
       "    </tr>\n",
       "    <tr>\n",
       "      <th>2</th>\n",
       "      <td>-122.24</td>\n",
       "      <td>37.85</td>\n",
       "      <td>52.0</td>\n",
       "      <td>1467.0</td>\n",
       "      <td>190.0</td>\n",
       "      <td>496.0</td>\n",
       "      <td>177.0</td>\n",
       "      <td>7.2574</td>\n",
       "      <td>352100.0</td>\n",
       "      <td>NEAR BAY</td>\n",
       "    </tr>\n",
       "    <tr>\n",
       "      <th>3</th>\n",
       "      <td>-122.25</td>\n",
       "      <td>37.85</td>\n",
       "      <td>52.0</td>\n",
       "      <td>1274.0</td>\n",
       "      <td>235.0</td>\n",
       "      <td>558.0</td>\n",
       "      <td>219.0</td>\n",
       "      <td>5.6431</td>\n",
       "      <td>341300.0</td>\n",
       "      <td>NEAR BAY</td>\n",
       "    </tr>\n",
       "    <tr>\n",
       "      <th>4</th>\n",
       "      <td>-122.25</td>\n",
       "      <td>37.85</td>\n",
       "      <td>52.0</td>\n",
       "      <td>1627.0</td>\n",
       "      <td>280.0</td>\n",
       "      <td>565.0</td>\n",
       "      <td>259.0</td>\n",
       "      <td>3.8462</td>\n",
       "      <td>342200.0</td>\n",
       "      <td>NEAR BAY</td>\n",
       "    </tr>\n",
       "  </tbody>\n",
       "</table>\n",
       "</div>"
      ],
      "text/plain": [
       "   longitude  latitude  housing_median_age  total_rooms  total_bedrooms  \\\n",
       "0    -122.23     37.88                41.0        880.0           129.0   \n",
       "1    -122.22     37.86                21.0       7099.0          1106.0   \n",
       "2    -122.24     37.85                52.0       1467.0           190.0   \n",
       "3    -122.25     37.85                52.0       1274.0           235.0   \n",
       "4    -122.25     37.85                52.0       1627.0           280.0   \n",
       "\n",
       "   population  households  median_income  median_house_value ocean_proximity  \n",
       "0       322.0       126.0         8.3252            452600.0        NEAR BAY  \n",
       "1      2401.0      1138.0         8.3014            358500.0        NEAR BAY  \n",
       "2       496.0       177.0         7.2574            352100.0        NEAR BAY  \n",
       "3       558.0       219.0         5.6431            341300.0        NEAR BAY  \n",
       "4       565.0       259.0         3.8462            342200.0        NEAR BAY  "
      ]
     },
     "execution_count": 24,
     "metadata": {},
     "output_type": "execute_result"
    }
   ],
   "source": [
    "housing_df.head()"
   ]
  },
  {
   "cell_type": "code",
   "execution_count": 25,
   "id": "4f55b237",
   "metadata": {},
   "outputs": [
    {
     "data": {
      "text/html": [
       "<div>\n",
       "<style scoped>\n",
       "    .dataframe tbody tr th:only-of-type {\n",
       "        vertical-align: middle;\n",
       "    }\n",
       "\n",
       "    .dataframe tbody tr th {\n",
       "        vertical-align: top;\n",
       "    }\n",
       "\n",
       "    .dataframe thead th {\n",
       "        text-align: right;\n",
       "    }\n",
       "</style>\n",
       "<table border=\"1\" class=\"dataframe\">\n",
       "  <thead>\n",
       "    <tr style=\"text-align: right;\">\n",
       "      <th></th>\n",
       "      <th>longitude</th>\n",
       "      <th>latitude</th>\n",
       "      <th>housing_median_age</th>\n",
       "      <th>total_rooms</th>\n",
       "      <th>total_bedrooms</th>\n",
       "      <th>population</th>\n",
       "      <th>households</th>\n",
       "      <th>median_income</th>\n",
       "      <th>median_house_value</th>\n",
       "    </tr>\n",
       "  </thead>\n",
       "  <tbody>\n",
       "    <tr>\n",
       "      <th>count</th>\n",
       "      <td>20640.000000</td>\n",
       "      <td>20640.000000</td>\n",
       "      <td>20640.000000</td>\n",
       "      <td>20640.000000</td>\n",
       "      <td>20433.000000</td>\n",
       "      <td>20640.000000</td>\n",
       "      <td>20640.000000</td>\n",
       "      <td>20640.000000</td>\n",
       "      <td>20640.000000</td>\n",
       "    </tr>\n",
       "    <tr>\n",
       "      <th>mean</th>\n",
       "      <td>-119.569704</td>\n",
       "      <td>35.631861</td>\n",
       "      <td>28.639486</td>\n",
       "      <td>2635.763081</td>\n",
       "      <td>537.870553</td>\n",
       "      <td>1425.476744</td>\n",
       "      <td>499.539680</td>\n",
       "      <td>3.870671</td>\n",
       "      <td>206855.816909</td>\n",
       "    </tr>\n",
       "    <tr>\n",
       "      <th>std</th>\n",
       "      <td>2.003532</td>\n",
       "      <td>2.135952</td>\n",
       "      <td>12.585558</td>\n",
       "      <td>2181.615252</td>\n",
       "      <td>421.385070</td>\n",
       "      <td>1132.462122</td>\n",
       "      <td>382.329753</td>\n",
       "      <td>1.899822</td>\n",
       "      <td>115395.615874</td>\n",
       "    </tr>\n",
       "    <tr>\n",
       "      <th>min</th>\n",
       "      <td>-124.350000</td>\n",
       "      <td>32.540000</td>\n",
       "      <td>1.000000</td>\n",
       "      <td>2.000000</td>\n",
       "      <td>1.000000</td>\n",
       "      <td>3.000000</td>\n",
       "      <td>1.000000</td>\n",
       "      <td>0.499900</td>\n",
       "      <td>14999.000000</td>\n",
       "    </tr>\n",
       "    <tr>\n",
       "      <th>25%</th>\n",
       "      <td>-121.800000</td>\n",
       "      <td>33.930000</td>\n",
       "      <td>18.000000</td>\n",
       "      <td>1447.750000</td>\n",
       "      <td>296.000000</td>\n",
       "      <td>787.000000</td>\n",
       "      <td>280.000000</td>\n",
       "      <td>2.563400</td>\n",
       "      <td>119600.000000</td>\n",
       "    </tr>\n",
       "    <tr>\n",
       "      <th>50%</th>\n",
       "      <td>-118.490000</td>\n",
       "      <td>34.260000</td>\n",
       "      <td>29.000000</td>\n",
       "      <td>2127.000000</td>\n",
       "      <td>435.000000</td>\n",
       "      <td>1166.000000</td>\n",
       "      <td>409.000000</td>\n",
       "      <td>3.534800</td>\n",
       "      <td>179700.000000</td>\n",
       "    </tr>\n",
       "    <tr>\n",
       "      <th>75%</th>\n",
       "      <td>-118.010000</td>\n",
       "      <td>37.710000</td>\n",
       "      <td>37.000000</td>\n",
       "      <td>3148.000000</td>\n",
       "      <td>647.000000</td>\n",
       "      <td>1725.000000</td>\n",
       "      <td>605.000000</td>\n",
       "      <td>4.743250</td>\n",
       "      <td>264725.000000</td>\n",
       "    </tr>\n",
       "    <tr>\n",
       "      <th>max</th>\n",
       "      <td>-114.310000</td>\n",
       "      <td>41.950000</td>\n",
       "      <td>52.000000</td>\n",
       "      <td>39320.000000</td>\n",
       "      <td>6445.000000</td>\n",
       "      <td>35682.000000</td>\n",
       "      <td>6082.000000</td>\n",
       "      <td>15.000100</td>\n",
       "      <td>500001.000000</td>\n",
       "    </tr>\n",
       "  </tbody>\n",
       "</table>\n",
       "</div>"
      ],
      "text/plain": [
       "          longitude      latitude  housing_median_age   total_rooms  \\\n",
       "count  20640.000000  20640.000000        20640.000000  20640.000000   \n",
       "mean    -119.569704     35.631861           28.639486   2635.763081   \n",
       "std        2.003532      2.135952           12.585558   2181.615252   \n",
       "min     -124.350000     32.540000            1.000000      2.000000   \n",
       "25%     -121.800000     33.930000           18.000000   1447.750000   \n",
       "50%     -118.490000     34.260000           29.000000   2127.000000   \n",
       "75%     -118.010000     37.710000           37.000000   3148.000000   \n",
       "max     -114.310000     41.950000           52.000000  39320.000000   \n",
       "\n",
       "       total_bedrooms    population    households  median_income  \\\n",
       "count    20433.000000  20640.000000  20640.000000   20640.000000   \n",
       "mean       537.870553   1425.476744    499.539680       3.870671   \n",
       "std        421.385070   1132.462122    382.329753       1.899822   \n",
       "min          1.000000      3.000000      1.000000       0.499900   \n",
       "25%        296.000000    787.000000    280.000000       2.563400   \n",
       "50%        435.000000   1166.000000    409.000000       3.534800   \n",
       "75%        647.000000   1725.000000    605.000000       4.743250   \n",
       "max       6445.000000  35682.000000   6082.000000      15.000100   \n",
       "\n",
       "       median_house_value  \n",
       "count        20640.000000  \n",
       "mean        206855.816909  \n",
       "std         115395.615874  \n",
       "min          14999.000000  \n",
       "25%         119600.000000  \n",
       "50%         179700.000000  \n",
       "75%         264725.000000  \n",
       "max         500001.000000  "
      ]
     },
     "execution_count": 25,
     "metadata": {},
     "output_type": "execute_result"
    }
   ],
   "source": [
    "housing_df.describe()"
   ]
  },
  {
   "cell_type": "code",
   "execution_count": 26,
   "id": "1c973eb0",
   "metadata": {},
   "outputs": [
    {
     "data": {
      "text/plain": [
       "Index(['longitude', 'latitude', 'housing_median_age', 'total_rooms',\n",
       "       'total_bedrooms', 'population', 'households', 'median_income',\n",
       "       'median_house_value', 'ocean_proximity'],\n",
       "      dtype='object')"
      ]
     },
     "execution_count": 26,
     "metadata": {},
     "output_type": "execute_result"
    }
   ],
   "source": [
    "housing_df.columns"
   ]
  },
  {
   "cell_type": "markdown",
   "id": "c149ec04",
   "metadata": {},
   "source": [
    "### Data Visualisation"
   ]
  },
  {
   "cell_type": "code",
   "execution_count": 27,
   "id": "11b789e8",
   "metadata": {},
   "outputs": [
    {
     "data": {
      "image/png": "[encoded data removed]",
      "text/plain": [
       "<Figure size 1440x1080 with 9 Axes>"
      ]
     },
     "metadata": {
      "needs_background": "light"
     },
     "output_type": "display_data"
    }
   ],
   "source": [
    "housing_df.hist(bins=50, figsize=(20, 15))\n",
    "plt.show()"
   ]
  },
  {
   "cell_type": "code",
   "execution_count": 28,
   "id": "7b2d7b64",
   "metadata": {},
   "outputs": [
    {
     "data": {
      "image/png": "[encoded data removed]",
      "text/plain": [
       "<Figure size 1296x720 with 9 Axes>"
      ]
     },
     "metadata": {
      "needs_background": "light"
     },
     "output_type": "display_data"
    }
   ],
   "source": [
    "fig, axes = plt.subplots(3, 3, figsize=(18, 10))\n",
    "\n",
    "sns.boxplot(ax=axes[0, 0], data=housing_df, x='longitude')\n",
    "sns.boxplot(ax=axes[0, 1], data=housing_df, x='latitude')\n",
    "sns.boxplot(ax=axes[0, 2], data=housing_df, x='housing_median_age')\n",
    "sns.boxplot(ax=axes[1, 0], data=housing_df, x='total_rooms')\n",
    "sns.boxplot(ax=axes[1, 1], data=housing_df, x='total_bedrooms')\n",
    "sns.boxplot(ax=axes[1, 2], data=housing_df, x='population')\n",
    "sns.boxplot(ax=axes[2, 0], data=housing_df, x='households')\n",
    "sns.boxplot(ax=axes[2, 1], data=housing_df, x='median_income')\n",
    "plt.show()"
   ]
  },
  {
   "cell_type": "code",
   "execution_count": null,
   "id": "d0ec816e",
   "metadata": {},
   "outputs": [],
   "source": [
    "fig, axes = plt.subplots(3, 3, figsize=(18, 10))\n",
    "\n",
    "sns.scatterplot(ax=axes[0, 0], data=housing_df, x='longitude', y ='median_house_value',hue='ocean_proximity')\n",
    "sns.scatterplot(ax=axes[0, 1], data=housing_df, x='latitude', y ='median_house_value',hue='ocean_proximity')\n",
    "sns.scatterplot(ax=axes[0, 2], data=housing_df, x='housing_median_age', y ='median_house_value',hue='ocean_proximity')\n",
    "sns.scatterplot(ax=axes[1, 0], data=housing_df, x='total_rooms', y ='median_house_value',hue='ocean_proximity')\n",
    "sns.scatterplot(ax=axes[1, 1], data=housing_df, x='total_bedrooms', y ='median_house_value',hue='ocean_proximity')\n",
    "sns.scatterplot(ax=axes[1, 2], data=housing_df, x='population', y ='median_house_value',hue='ocean_proximity')\n",
    "sns.scatterplot(ax=axes[2, 0], data=housing_df, x='households', y ='median_house_value',hue='ocean_proximity')\n",
    "sns.scatterplot(ax=axes[2, 1], data=housing_df, x='median_income', y ='median_house_value',hue='ocean_proximity')\n",
    "\n",
    "plt.show()"
   ]
  },
  {
   "cell_type": "markdown",
   "id": "a2e35ec7",
   "metadata": {},
   "source": [
    "### Data Cleaning and Filtering"
   ]
  },
  {
   "cell_type": "code",
   "execution_count": null,
   "id": "aa17811e",
   "metadata": {},
   "outputs": [],
   "source": [
    "housing_df.isnull().sum()"
   ]
  },
  {
   "cell_type": "code",
   "execution_count": null,
   "id": "c78f324c",
   "metadata": {},
   "outputs": [],
   "source": [
    "housing_df = housing_df.dropna()\n",
    "housing_df.isnull().sum()"
   ]
  },
  {
   "cell_type": "code",
   "execution_count": null,
   "id": "d03afbe5",
   "metadata": {},
   "outputs": [],
   "source": [
    "housing_df.ocean_proximity.unique()"
   ]
  },
  {
   "cell_type": "code",
   "execution_count": null,
   "id": "174056b6",
   "metadata": {},
   "outputs": [],
   "source": [
    "housing_df.ocean_proximity.value_counts()"
   ]
  },
  {
   "cell_type": "code",
   "execution_count": null,
   "id": "f75f59ec",
   "metadata": {},
   "outputs": [],
   "source": [
    "sns.catplot(x='ocean_proximity', data=housing_df, kind='count')\n",
    "plt.show()"
   ]
  },
  {
   "cell_type": "code",
   "execution_count": null,
   "id": "4b569172",
   "metadata": {},
   "outputs": [],
   "source": [
    "housing_df[\"ocean_proximity\"]=housing_df[\"ocean_proximity\"].replace(\"NEAR BAY\",0)\n",
    "housing_df[\"ocean_proximity\"]=housing_df[\"ocean_proximity\"].replace(\"NEAR OCEAN\",0)\n",
    "housing_df[\"ocean_proximity\"]=housing_df[\"ocean_proximity\"].replace(\"<1H OCEAN\",1)\n",
    "housing_df[\"ocean_proximity\"]=housing_df[\"ocean_proximity\"].replace(\"INLAND\",2)\n",
    "housing_df[\"ocean_proximity\"]=housing_df[\"ocean_proximity\"].replace(\"ISLAND\",3)"
   ]
  },
  {
   "cell_type": "code",
   "execution_count": null,
   "id": "e1f1d897",
   "metadata": {},
   "outputs": [],
   "source": [
    "housing_df.drop('ocean_proximity', axis=1, inplace=True)"
   ]
  },
  {
   "cell_type": "code",
   "execution_count": null,
   "id": "49981fcf",
   "metadata": {},
   "outputs": [],
   "source": [
    "filt=housing_df[\"households\"]<6000\n",
    "housing_df=housing_df.loc[filt]\n",
    "housing_df.shape "
   ]
  },
  {
   "cell_type": "code",
   "execution_count": null,
   "id": "aada0b42",
   "metadata": {},
   "outputs": [],
   "source": [
    "filt=housing_df[\"population\"]<20000\n",
    "housing_df=housing_df.loc[filt]\n",
    "housing_df.shape "
   ]
  },
  {
   "cell_type": "code",
   "execution_count": null,
   "id": "2f78461c",
   "metadata": {},
   "outputs": [],
   "source": [
    "filt=housing_df[\"total_bedrooms\"]<6000\n",
    "housing_df=housing_df.loc[filt]\n",
    "housing_df.shape "
   ]
  },
  {
   "cell_type": "code",
   "execution_count": null,
   "id": "0728599b",
   "metadata": {},
   "outputs": [],
   "source": [
    "filt=housing_df[\"total_rooms\"]<35000\n",
    "housing_df=housing_df.loc[filt]\n",
    "housing_df.shape "
   ]
  },
  {
   "cell_type": "code",
   "execution_count": null,
   "id": "29718918",
   "metadata": {},
   "outputs": [],
   "source": [
    "X=housing_df.iloc[:,:9]\n",
    "Y=housing_df.iloc[:,-1]\n",
    "print(X.shape)\n",
    "print(Y.shape)"
   ]
  },
  {
   "cell_type": "markdown",
   "id": "dd6f48b7",
   "metadata": {},
   "source": [
    "### Linear Regression"
   ]
  },
  {
   "cell_type": "code",
   "execution_count": null,
   "id": "ae89d14b",
   "metadata": {},
   "outputs": [],
   "source": [
    "prices = housing_df['median_house_value']\n",
    "features = housing_df.drop('median_house_value', axis = 1)\n",
    "print(type(prices))\n",
    "X_train, X_test, y_train, y_test = train_test_split(features, prices, test_size = 0.2)"
   ]
  },
  {
   "cell_type": "code",
   "execution_count": null,
   "id": "d981ed0b",
   "metadata": {},
   "outputs": [],
   "source": [
    "regr = LinearRegression()\n",
    "regr.fit(X_train, y_train)"
   ]
  },
  {
   "cell_type": "code",
   "execution_count": null,
   "id": "4f395b27",
   "metadata": {},
   "outputs": [],
   "source": [
    "print('Intercept', regr.intercept_)\n",
    "pd.DataFrame(data = regr.coef_, index=X_train.columns, columns = ['Coef'])"
   ]
  },
  {
   "cell_type": "code",
   "execution_count": null,
   "id": "4c88daa2",
   "metadata": {},
   "outputs": [],
   "source": [
    "regr.score(X_train, y_train)"
   ]
  },
  {
   "cell_type": "code",
   "execution_count": null,
   "id": "baedda49",
   "metadata": {},
   "outputs": [],
   "source": [
    "regr.score(X_test, y_test)"
   ]
  },
  {
   "cell_type": "code",
   "execution_count": null,
   "id": "413fbfe2",
   "metadata": {},
   "outputs": [],
   "source": [
    "housing_df['median_house_value'].skew()"
   ]
  },
  {
   "cell_type": "code",
   "execution_count": null,
   "id": "84e64599",
   "metadata": {},
   "outputs": [],
   "source": [
    "y_log = np.log(housing_df['median_house_value'])\n",
    "y_log.tail()"
   ]
  },
  {
   "cell_type": "code",
   "execution_count": null,
   "id": "edad29cc",
   "metadata": {},
   "outputs": [],
   "source": [
    "plt.figure(figsize=(16, 10))\n",
    "sns.histplot(y_log)\n",
    "plt.title(f'Log Price with skew {y_log.skew()}')\n",
    "plt.show()"
   ]
  },
  {
   "cell_type": "code",
   "execution_count": null,
   "id": "c95fa3a8",
   "metadata": {},
   "outputs": [],
   "source": [
    "transformed_df = features\n",
    "transformed_df['log_median_value'] = y_log\n",
    "\n",
    "plt.figure(figsize=(16, 10))\n",
    "sns.lmplot(x = 'median_income', y ='log_median_value', data=transformed_df, height = 7, scatter_kws={'alpha':0.3}, line_kws={'color':'darkred'})\n",
    "plt.ylim(10.5, 13)\n",
    "plt.style.use('dark_background')\n",
    "plt.xlabel('Median Price of the House', fontsize = 14)\n",
    "plt.ylabel('Median Income per household', fontsize = 14)\n",
    "plt.title('Median Price vs Median Income per household in 1000s', fontsize = 14)\n",
    "plt.show()"
   ]
  },
  {
   "cell_type": "code",
   "execution_count": null,
   "id": "db4a2dd2",
   "metadata": {},
   "outputs": [],
   "source": [
    "plt.figure(figsize=(16, 10))\n",
    "sns.lmplot(x = 'median_income', y ='median_house_value', data=housing_df, height = 7, scatter_kws={'alpha':0.3}, line_kws={'color':'pink'})\n",
    "plt.ylim(0, 500000)\n",
    "plt.style.use('dark_background')\n",
    "plt.xlabel('Median Price of the House', fontsize = 14)\n",
    "plt.ylabel('Median Income per household', fontsize = 14)\n",
    "plt.title('Median Price vs Median Income per household in 1000s', fontsize = 14)\n",
    "plt.show()"
   ]
  },
  {
   "cell_type": "code",
   "execution_count": null,
   "id": "8c18ae3d",
   "metadata": {},
   "outputs": [],
   "source": [
    "prices = np.log(housing_df['median_house_value'])\n",
    "features = housing_df.drop('median_house_value', axis = 1)\n",
    "\n",
    "X_train, X_test, y_train, y_test = train_test_split(features, prices, test_size = 0.2)\n",
    "\n",
    "regr = LinearRegression()\n",
    "regr.fit(X_train, y_train)\n",
    "\n",
    "print('Intercept', regr.intercept_)\n",
    "pd.DataFrame(data = regr.coef_, index=X_train.columns, columns = ['Coef'])\n"
   ]
  },
  {
   "cell_type": "code",
   "execution_count": null,
   "id": "9acba603",
   "metadata": {},
   "outputs": [],
   "source": [
    "regr.score(X_train, y_train)"
   ]
  }
 ],
 "metadata": {
  "kernelspec": {
   "display_name": "Python 3",
   "language": "python",
   "name": "python3"
  },
  "language_info": {
   "codemirror_mode": {
    "name": "ipython",
    "version": 3
   },
   "file_extension": ".py",
   "mimetype": "text/x-python",
   "name": "python",
   "nbconvert_exporter": "python",
   "pygments_lexer": "ipython3",
   "version": "3.8.8"
  }
 },
 "nbformat": 4,
 "nbformat_minor": 5
}
