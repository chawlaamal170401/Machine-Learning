{
 "cells": [
  {
   "cell_type": "code",
   "execution_count": 6,
   "id": "db1d6d24",
   "metadata": {},
   "outputs": [],
   "source": [
    "import numpy as np"
   ]
  },
  {
   "cell_type": "code",
   "execution_count": 7,
   "id": "369b1539",
   "metadata": {},
   "outputs": [],
   "source": [
    "data = np.loadtxt('data.csv', delimiter=',')"
   ]
  },
  {
   "cell_type": "code",
   "execution_count": 8,
   "id": "b713242a",
   "metadata": {},
   "outputs": [],
   "source": [
    "def step_gradient(points, alpha, m, c):\n",
    "    m_slope = 0\n",
    "    c_slope = 0\n",
    "    N = len(points)\n",
    "    \n",
    "    for i in range(N):\n",
    "        x = points[i, 0]\n",
    "        y = points[i, 1]\n",
    "        \n",
    "        m_slope = (2/N)*(y-m*x-c)*x\n",
    "        c_slope = (2/N)*(y-m*x-c)\n",
    "    \n",
    "    new_m = m-alpha*m_slope\n",
    "    new_c = c-alpha*c_slope\n",
    "    \n",
    "    return new_m, new_c"
   ]
  },
  {
   "cell_type": "code",
   "execution_count": 9,
   "id": "24e92cf5",
   "metadata": {},
   "outputs": [],
   "source": [
    "def cost(points, m, c):\n",
    "    total_cost = 0\n",
    "    N = len(points)\n",
    "    for i in range(N):\n",
    "        x = points[i, 0]\n",
    "        y = points[i, 1]\n",
    "        total_cost += (1/N)*((y-m*x-c)**2)\n",
    "    return total_cost"
   ]
  },
  {
   "cell_type": "code",
   "execution_count": 10,
   "id": "4220db28",
   "metadata": {},
   "outputs": [],
   "source": [
    "def gd(points, alpha, iterations):\n",
    "    m=0\n",
    "    c=0\n",
    "    for i in range(iterations):\n",
    "        m1, c1 = step_gradient(points, alpha, m, c)\n",
    "        print(i, \"Cost: \", cost(points, m1, c1))\n",
    "    return m1, c1"
   ]
  },
  {
   "cell_type": "code",
   "execution_count": 11,
   "id": "9cf0780a",
   "metadata": {},
   "outputs": [],
   "source": [
    "def run():\n",
    "    learning_rate = 0.001\n",
    "    num_of_iterations = 1000\n",
    "    m, c = gd(data, learning_rate, num_of_iterations)\n",
    "    print(m, c)"
   ]
  },
  {
   "cell_type": "code",
   "execution_count": 13,
   "id": "87b9a8c9",
   "metadata": {
    "scrolled": true
   },
   "outputs": [],
   "source": [
    "# run()"
   ]
  }
 ],
 "metadata": {
  "kernelspec": {
   "display_name": "Python 3",
   "language": "python",
   "name": "python3"
  },
  "language_info": {
   "codemirror_mode": {
    "name": "ipython",
    "version": 3
   },
   "file_extension": ".py",
   "mimetype": "text/x-python",
   "name": "python",
   "nbconvert_exporter": "python",
   "pygments_lexer": "ipython3",
   "version": "3.8.8"
  }
 },
 "nbformat": 4,
 "nbformat_minor": 5
}
