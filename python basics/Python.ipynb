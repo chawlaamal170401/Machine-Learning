{
 "cells": [
  {
   "cell_type": "code",
   "execution_count": 1,
   "id": "8c8f8758",
   "metadata": {},
   "outputs": [],
   "source": [
    "def divide(a, b):\n",
    "    try:\n",
    "        return a/b\n",
    "    except:\n",
    "        return \"Error\"\n",
    "    finally:\n",
    "        print(\"It will always execute\")\n",
    "        "
   ]
  },
  {
   "cell_type": "code",
   "execution_count": 2,
   "id": "0cf6b7c2",
   "metadata": {},
   "outputs": [
    {
     "name": "stdout",
     "output_type": "stream",
     "text": [
      "It will always execute\n",
      "2.0\n"
     ]
    }
   ],
   "source": [
    "x = divide(2, 1)\n",
    "print(x)"
   ]
  },
  {
   "cell_type": "code",
   "execution_count": 3,
   "id": "17d5ac73",
   "metadata": {},
   "outputs": [
    {
     "name": "stdout",
     "output_type": "stream",
     "text": [
      "It will always execute\n",
      "Error\n"
     ]
    }
   ],
   "source": [
    "x = divide(2, 0)\n",
    "print(x)"
   ]
  },
  {
   "cell_type": "markdown",
   "id": "1a317095",
   "metadata": {},
   "source": [
    "# Lambda Function\n",
    "1. It is a one liner function"
   ]
  },
  {
   "cell_type": "code",
   "execution_count": 6,
   "id": "1958661b",
   "metadata": {},
   "outputs": [
    {
     "name": "stdout",
     "output_type": "stream",
     "text": [
      "5\n"
     ]
    }
   ],
   "source": [
    "x = lambda a, b: a+b\n",
    "print(x(2, 3))"
   ]
  },
  {
   "cell_type": "markdown",
   "id": "05661314",
   "metadata": {},
   "source": [
    "## File Handling"
   ]
  },
  {
   "cell_type": "code",
   "execution_count": 6,
   "id": "501f36a6",
   "metadata": {},
   "outputs": [
    {
     "name": "stdout",
     "output_type": "stream",
     "text": [
      "Hello World!\n"
     ]
    }
   ],
   "source": [
    "with open('hello.txt', 'r') as file:\n",
    "    print(file.read())\n",
    "#     print(file.read(4))"
   ]
  },
  {
   "cell_type": "code",
   "execution_count": 14,
   "id": "20b58cc8",
   "metadata": {},
   "outputs": [],
   "source": [
    "with open('hello.txt', 'a+') as file:\n",
    "    file.write(' Bye')    "
   ]
  },
  {
   "cell_type": "code",
   "execution_count": 15,
   "id": "9b6d0d4c",
   "metadata": {},
   "outputs": [
    {
     "name": "stdout",
     "output_type": "stream",
     "text": [
      "Hello World!Bye Bye\n"
     ]
    }
   ],
   "source": [
    "with open('hello.txt') as file:\n",
    "    d = file.readline()\n",
    "    print(d)"
   ]
  },
  {
   "cell_type": "markdown",
   "id": "3a983c8b",
   "metadata": {},
   "source": [
    "## Comprehension"
   ]
  },
  {
   "cell_type": "code",
   "execution_count": 16,
   "id": "fa52ff99",
   "metadata": {},
   "outputs": [
    {
     "data": {
      "text/plain": [
       "[0, 1, 4, 9, 16, 25, 36, 49, 64, 81]"
      ]
     },
     "execution_count": 16,
     "metadata": {},
     "output_type": "execute_result"
    }
   ],
   "source": [
    "[i**2 for i in range(10)]"
   ]
  },
  {
   "cell_type": "code",
   "execution_count": 18,
   "id": "c3d94fc2",
   "metadata": {},
   "outputs": [
    {
     "data": {
      "text/plain": [
       "{0, 1, 4, 9, 16, 25, 36, 49, 64, 81}"
      ]
     },
     "execution_count": 18,
     "metadata": {},
     "output_type": "execute_result"
    }
   ],
   "source": [
    "{i**2 for i in range(10)}"
   ]
  },
  {
   "cell_type": "code",
   "execution_count": 19,
   "id": "0f963bba",
   "metadata": {},
   "outputs": [
    {
     "data": {
      "text/plain": [
       "{0: 0, 2: 4, 4: 16, 6: 36, 8: 64}"
      ]
     },
     "execution_count": 19,
     "metadata": {},
     "output_type": "execute_result"
    }
   ],
   "source": [
    "{i: i**2 for i in range(10) if i%2 == 0}"
   ]
  },
  {
   "cell_type": "markdown",
   "id": "c0b5eafc",
   "metadata": {},
   "source": [
    "## JSON files"
   ]
  },
  {
   "cell_type": "code",
   "execution_count": 22,
   "id": "43fc9278",
   "metadata": {},
   "outputs": [],
   "source": [
    "import json"
   ]
  },
  {
   "cell_type": "code",
   "execution_count": 42,
   "id": "5747dcee",
   "metadata": {},
   "outputs": [
    {
     "name": "stdout",
     "output_type": "stream",
     "text": [
      "{\n",
      "    \"name\": \"amal\",\n",
      "    \"marks\": 87,\n",
      "    \"subject\": [\"dcs\", \"cs\", \"lic\", \"asm\", \"ppe\"]\n",
      "}\n",
      "{'name': 'amal', 'marks': 87, 'subject': ['dcs', 'cs', 'lic', 'asm', 'ppe']}\n"
     ]
    }
   ],
   "source": [
    "with open('data.json') as file:\n",
    "    d = file.read()\n",
    "    print(d)\n",
    "    x = json.loads(d)\n",
    "    print(x)"
   ]
  },
  {
   "cell_type": "code",
   "execution_count": 32,
   "id": "cd9dd79a",
   "metadata": {},
   "outputs": [
    {
     "data": {
      "text/plain": [
       "'{\"name\": \"amal\", \"marks\": 87, \"subject\": [\"dcs\", \"cs\", \"lic\", \"asm\", \"ppe\"]}'"
      ]
     },
     "execution_count": 32,
     "metadata": {},
     "output_type": "execute_result"
    }
   ],
   "source": [
    "d = {'name': 'amal', 'marks': 87, 'subject': ['dcs', 'cs', 'lic', 'asm', 'ppe']}\n",
    "json.dumps(d)"
   ]
  },
  {
   "cell_type": "code",
   "execution_count": 49,
   "id": "7c0ac208",
   "metadata": {},
   "outputs": [],
   "source": [
    "with open('data1.json','w') as file:\n",
    "    json.dump(d, file)"
   ]
  }
 ],
 "metadata": {
  "kernelspec": {
   "display_name": "Python 3",
   "language": "python",
   "name": "python3"
  },
  "language_info": {
   "codemirror_mode": {
    "name": "ipython",
    "version": 3
   },
   "file_extension": ".py",
   "mimetype": "text/x-python",
   "name": "python",
   "nbconvert_exporter": "python",
   "pygments_lexer": "ipython3",
   "version": "3.9.1"
  }
 },
 "nbformat": 4,
 "nbformat_minor": 5
}
