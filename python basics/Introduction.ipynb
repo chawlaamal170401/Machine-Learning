{
 "cells": [
  {
   "cell_type": "code",
   "execution_count": 1,
   "id": "a9423931",
   "metadata": {},
   "outputs": [
    {
     "name": "stdout",
     "output_type": "stream",
     "text": [
      "Hi\n"
     ]
    }
   ],
   "source": [
    "print('Hi')"
   ]
  },
  {
   "cell_type": "code",
   "execution_count": 2,
   "id": "fc036e9e",
   "metadata": {},
   "outputs": [
    {
     "name": "stdout",
     "output_type": "stream",
     "text": [
      "17\n"
     ]
    }
   ],
   "source": [
    "a=8\n",
    "b=9\n",
    "print(a+b)"
   ]
  },
  {
   "cell_type": "markdown",
   "id": "f3190d17",
   "metadata": {},
   "source": [
    "Hi, This is a Markdown\n",
    "\n",
    "1. To convert code block into markdown use esc+m+shift+enter\n",
    "2. To convert markdown into code use esc+y+shift+enter\n",
    "3. press esc+a to add cell above\n",
    "4. press esc+b to add cell below\n",
    "5. pess esc+d+d to delete cell\n",
    "\n"
   ]
  }
 ],
 "metadata": {
  "kernelspec": {
   "display_name": "Python 3",
   "language": "python",
   "name": "python3"
  },
  "language_info": {
   "codemirror_mode": {
    "name": "ipython",
    "version": 3
   },
   "file_extension": ".py",
   "mimetype": "text/x-python",
   "name": "python",
   "nbconvert_exporter": "python",
   "pygments_lexer": "ipython3",
   "version": "3.9.1"
  }
 },
 "nbformat": 4,
 "nbformat_minor": 5
}
