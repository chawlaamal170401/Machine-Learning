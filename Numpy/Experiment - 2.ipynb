{
 "cells": [
  {
   "cell_type": "markdown",
   "id": "6d91b7f5",
   "metadata": {},
   "source": [
    "# Experiment - 2\n",
    "\n",
    "# Objective : Perform numerical computation on arrays using numpy library."
   ]
  },
  {
   "cell_type": "code",
   "execution_count": 8,
   "id": "427214ae",
   "metadata": {},
   "outputs": [],
   "source": [
    "import numpy as np\n",
    "import matplotlib.pyplot as plt"
   ]
  },
  {
   "cell_type": "markdown",
   "id": "30ada377",
   "metadata": {},
   "source": [
    "### Q1. Write a Python program to find the maximum and minimum value of a given flattened array."
   ]
  },
  {
   "cell_type": "code",
   "execution_count": 23,
   "id": "a912f1a2",
   "metadata": {},
   "outputs": [
    {
     "name": "stdout",
     "output_type": "stream",
     "text": [
      "Orignal Array: [0 1 2 3 4]\n",
      "Minimum Value:  0\n",
      "Maximum Value:  4\n"
     ]
    }
   ],
   "source": [
    "a = np.arange(5)\n",
    "print(\"Orignal Array:\", a)\n",
    "minV = a.min()\n",
    "maxV = a.max()\n",
    "print(\"Minimum Value: \",minV)\n",
    "print(\"Maximum Value: \",maxV)"
   ]
  },
  {
   "cell_type": "markdown",
   "id": "2ec1f8fc",
   "metadata": {},
   "source": [
    "### Q2. Write a NumPy program to get the powers of an array values element-wise."
   ]
  },
  {
   "cell_type": "code",
   "execution_count": 5,
   "id": "d8baba2d",
   "metadata": {},
   "outputs": [
    {
     "name": "stdout",
     "output_type": "stream",
     "text": [
      "Orignal Array:  [0 1 2 3 4 5]\n",
      "Output:  [ 0  1  8 27 64  5]\n"
     ]
    }
   ],
   "source": [
    "x1 = np.arange(6)\n",
    "x2 = np.array([1, 2, 3, 3, 3, 1])\n",
    "print(\"Orignal Array: \", x1)\n",
    "x3 = np.power(x1, x2)\n",
    "print(\"Output: \", x3)"
   ]
  },
  {
   "cell_type": "markdown",
   "id": "af2f9c34",
   "metadata": {},
   "source": [
    "### Q3. Write a NumPy program to get the floor, ceiling and truncated values of the elements of a numpy array."
   ]
  },
  {
   "cell_type": "code",
   "execution_count": 19,
   "id": "b8d84809",
   "metadata": {},
   "outputs": [
    {
     "name": "stdout",
     "output_type": "stream",
     "text": [
      "Orignal Array:  [-1.6 -1.5 -0.3  0.1  1.4  1.8  2. ]\n",
      "\n",
      "Floor Values of Orignal Array:  [-2. -2. -1.  0.  1.  1.  2.]\n",
      "\n",
      "Ceil Values of Orignal Array:  [-1. -1. -0.  1.  2.  2.  2.]\n",
      "\n",
      "Truncated Values of Orignal Array:  [-1. -1. -0.  0.  1.  1.  2.]\n"
     ]
    }
   ],
   "source": [
    "arr = np.array([-1.6, -1.5, -0.3, 0.1, 1.4, 1.8, 2.])\n",
    "print(\"Orignal Array: \", arr)\n",
    "\n",
    "f = np.floor(arr)\n",
    "c = np.ceil(arr)\n",
    "t = np.trunc(arr)\n",
    "\n",
    "print(\"\\nFloor Values of Orignal Array: \", f)\n",
    "print(\"\\nCeil Values of Orignal Array: \", c)\n",
    "print(\"\\nTruncated Values of Orignal Array: \", t)"
   ]
  },
  {
   "cell_type": "markdown",
   "id": "7f244734",
   "metadata": {},
   "source": [
    "### Q4. Write a NumPy program to multiply a 5x3 matrix by a 3x2 matrix and create a real matrix product.(read these matrix from user itself)."
   ]
  },
  {
   "cell_type": "code",
   "execution_count": 14,
   "id": "843941a6",
   "metadata": {},
   "outputs": [
    {
     "name": "stdout",
     "output_type": "stream",
     "text": [
      "First array: \n",
      " [[0.99349353 0.01239416 0.10875663]\n",
      " [0.29612561 0.21567496 0.38438703]\n",
      " [0.48086927 0.32862222 0.43202211]\n",
      " [0.49823883 0.47440812 0.3449523 ]\n",
      " [0.15971618 0.38330811 0.00364885]]\n",
      "\n",
      "Second array: \n",
      " [[0.69279324 0.11474815]\n",
      " [0.26550792 0.4233034 ]\n",
      " [0.40064805 0.47227116]]\n",
      "\n",
      "Dot product of two arrays: \n",
      " [[0.73514948 0.17061065]\n",
      " [0.41642115 0.30681072]\n",
      " [0.5934836  0.39831734]\n",
      " [0.60934007 0.42090157]\n",
      " [0.21388353 0.18230601]]\n"
     ]
    }
   ],
   "source": [
    "a = np.random.random((5,3))\n",
    "print(\"First array: \\n\", a)\n",
    "\n",
    "b = np.random.random((3,2))\n",
    "print(\"\\nSecond array: \\n\", b)\n",
    "\n",
    "c = np.dot(a, b)\n",
    "print(\"\\nDot product of two arrays: \\n\", c)"
   ]
  },
  {
   "cell_type": "markdown",
   "id": "e45c20a5",
   "metadata": {},
   "source": [
    "### Q5. Write a Python program to count number of occurrences of each value in a given array of non-negative integers."
   ]
  },
  {
   "cell_type": "code",
   "execution_count": 16,
   "id": "8cdfb373",
   "metadata": {},
   "outputs": [
    {
     "name": "stdout",
     "output_type": "stream",
     "text": [
      "Original array:\n",
      " [0, 1, 6, 1, 4, 1, 2, 2, 7]\n",
      "\n",
      "Number of occurrences of each value in array: \n",
      " [1 3 2 0 1 0 1 1]\n"
     ]
    }
   ],
   "source": [
    "arr = [0, 1, 6, 1, 4, 1, 2, 2, 7] \n",
    "print(\"Original array:\\n\", arr)\n",
    "\n",
    "val = np.bincount(arr)\n",
    "print(\"\\nNumber of occurrences of each value in array: \\n\", val)"
   ]
  },
  {
   "cell_type": "markdown",
   "id": "6bf0ebc1",
   "metadata": {},
   "source": [
    "### Q6. Write a NumPy program to compute the histogram of nums against the bins. "
   ]
  },
  {
   "cell_type": "code",
   "execution_count": 9,
   "id": "62df5ffa",
   "metadata": {},
   "outputs": [
    {
     "name": "stdout",
     "output_type": "stream",
     "text": [
      "nums:  [0.5 0.7 1.  1.2 1.3 2.1]\n",
      "bins:  [0 1 2 3]\n",
      "Result: (array([2, 3, 1], dtype=int64), array([0, 1, 2, 3]))\n"
     ]
    },
    {
     "data": {
      "image/png": "[encoded data removed]",
      "text/plain": [
       "<Figure size 432x288 with 1 Axes>"
      ]
     },
     "metadata": {
      "needs_background": "light"
     },
     "output_type": "display_data"
    }
   ],
   "source": [
    "nums = np.array([0.5, 0.7, 1.0, 1.2, 1.3, 2.1])\n",
    "bins = np.array([0, 1, 2, 3])\n",
    "\n",
    "print(\"nums: \",nums)\n",
    "print(\"bins: \",bins)\n",
    "print(\"Result:\", np.histogram(nums, bins))\n",
    "\n",
    "plt.hist(nums, bins=bins)\n",
    "plt.show()"
   ]
  },
  {
   "cell_type": "markdown",
   "id": "920ba50c",
   "metadata": {},
   "source": [
    "### Q7. Write a NumPy program to create a structured array from given student name, height, class and their data types. Now sort the array on height."
   ]
  },
  {
   "cell_type": "code",
   "execution_count": 18,
   "id": "b5273d9a",
   "metadata": {},
   "outputs": [
    {
     "name": "stdout",
     "output_type": "stream",
     "text": [
      "Original array:\n",
      "  [(b'James', 5, 48.5 ) (b'Nail', 6, 52.5 ) (b'Paul', 5, 42.1 )\n",
      " (b'Pit', 5, 40.11)]\n",
      "\n",
      "Sort by height:\n",
      " [(b'Pit', 5, 40.11) (b'Paul', 5, 42.1 ) (b'James', 5, 48.5 )\n",
      " (b'Nail', 6, 52.5 )]\n"
     ]
    }
   ],
   "source": [
    "d_type = [('name', 'S15'), ('class', int), ('height', float)]\n",
    "students_details = [('James', 5, 48.5), ('Nail', 6, 52.5),('Paul', 5, 42.10), ('Pit', 5, 40.11)]\n",
    "\n",
    "students = np.array(students_details, dtype=d_type)   \n",
    "print(\"Original array:\\n \", students)\n",
    "\n",
    "res = np.sort(students, order='height')\n",
    "print(\"\\nSort by height:\\n\", res) "
   ]
  },
  {
   "cell_type": "markdown",
   "id": "29a9dd77",
   "metadata": {},
   "source": [
    "### Q8. Write a NumPy program to get the indices of the sorted elements of a given array."
   ]
  },
  {
   "cell_type": "code",
   "execution_count": 24,
   "id": "921a1b08",
   "metadata": {},
   "outputs": [
    {
     "name": "stdout",
     "output_type": "stream",
     "text": [
      "Original array: [1023 5202 6230 1671 1682 5241 4532]\n",
      "\n",
      "Indices of the sorted elements of a given array: [0 3 4 6 1 5 2]\n"
     ]
    }
   ],
   "source": [
    "arr = np.array([1023, 5202, 6230, 1671, 1682, 5241, 4532])\n",
    "print(\"Original array:\", arr)\n",
    "\n",
    "idx = np.argsort(arr)\n",
    "print(\"\\nIndices of the sorted elements of a given array:\", idx)"
   ]
  },
  {
   "cell_type": "markdown",
   "id": "32e970bf",
   "metadata": {},
   "source": [
    "### Q9. Create an array and Remove columns in Numpy array that contains non-numeric values."
   ]
  },
  {
   "cell_type": "code",
   "execution_count": 12,
   "id": "9fbbc68f",
   "metadata": {},
   "outputs": [
    {
     "name": "stdout",
     "output_type": "stream",
     "text": [
      "Given array: \n",
      " [[10.5 22.5  nan]\n",
      " [41.  52.5  nan]]\n",
      "\n",
      "Remove all columns containing non-numeric elements \n",
      "[[10.5 22.5]\n",
      " [41.  52.5]]\n"
     ]
    }
   ],
   "source": [
    "arr = np.array([[10.5, 22.5, np.nan],\n",
    "                  [41, 52.5, np.nan]])\n",
    "  \n",
    "print(\"Given array: \\n\", arr)\n",
    "  \n",
    "print(\"\\nRemove all columns containing non-numeric elements \")\n",
    "print(arr[:, ~np.isnan(arr).any(axis=0)])"
   ]
  },
  {
   "cell_type": "markdown",
   "id": "0dc64505",
   "metadata": {},
   "source": [
    "### Q10. Calculate the average, variance and standard deviation of a random generated array in Python using NumPy "
   ]
  },
  {
   "cell_type": "markdown",
   "id": "da94fdf9",
   "metadata": {},
   "source": [
    "#### 1. For Whole Array"
   ]
  },
  {
   "cell_type": "code",
   "execution_count": 30,
   "id": "5d35c912",
   "metadata": {},
   "outputs": [
    {
     "name": "stdout",
     "output_type": "stream",
     "text": [
      "Orignal Array: \n",
      " [[0 1 2]\n",
      " [3 4 5]]\n",
      "\n",
      "Mean:  2.5\n",
      "\n",
      "std:  1.707825127659933\n",
      "\n",
      "variance:  2.9166666666666665\n"
     ]
    }
   ],
   "source": [
    "arr = np.arange(6).reshape(2, 3)\n",
    "print(\"Orignal Array: \\n\",arr)\n",
    "  \n",
    "m = np.mean(arr)\n",
    "print(\"\\nMean: \", m)\n",
    "  \n",
    "s = np.std(arr)\n",
    "print(\"\\nstd: \", s)\n",
    "  \n",
    "v = np.var(arr)\n",
    "print(\"\\nvariance: \", v)"
   ]
  },
  {
   "cell_type": "markdown",
   "id": "25dab37e",
   "metadata": {},
   "source": [
    "#### 2. Column Wise Stores in a list"
   ]
  },
  {
   "cell_type": "code",
   "execution_count": 34,
   "id": "0959ceb0",
   "metadata": {},
   "outputs": [
    {
     "name": "stdout",
     "output_type": "stream",
     "text": [
      "Orignal Array: \n",
      " [[0 1 2]\n",
      " [3 4 5]]\n",
      "\n",
      "Mean:  [1.5 2.5 3.5]\n",
      "\n",
      "std:  [1.5 1.5 1.5]\n",
      "\n",
      "variance:  [2.25 2.25 2.25]\n"
     ]
    }
   ],
   "source": [
    "arr = np.arange(6).reshape(2, 3)\n",
    "print(\"Orignal Array: \\n\",arr)\n",
    "\n",
    "mp = np.mean(arr, axis=0)\n",
    "print(\"\\nMean: \", mp)\n",
    "  \n",
    "sp = np.std(arr, axis=0)\n",
    "print(\"\\nstd: \", sp)\n",
    "  \n",
    "vp = np.var(arr, axis=0)\n",
    "print(\"\\nvariance: \", vp)"
   ]
  }
 ],
 "metadata": {
  "kernelspec": {
   "display_name": "Python 3",
   "language": "python",
   "name": "python3"
  },
  "language_info": {
   "codemirror_mode": {
    "name": "ipython",
    "version": 3
   },
   "file_extension": ".py",
   "mimetype": "text/x-python",
   "name": "python",
   "nbconvert_exporter": "python",
   "pygments_lexer": "ipython3",
   "version": "3.8.8"
  }
 },
 "nbformat": 4,
 "nbformat_minor": 5
}
