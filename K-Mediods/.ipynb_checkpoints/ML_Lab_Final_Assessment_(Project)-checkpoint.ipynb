{
 "cells": [
  {
   "cell_type": "markdown",
   "metadata": {
    "id": "P_kzGOzUO89a"
   },
   "source": [
    "# Partioning Around Mediods on Iris Dataset on UCI Repository"
   ]
  },
  {
   "cell_type": "markdown",
   "metadata": {},
   "source": [
    "# Importing Libraries"
   ]
  },
  {
   "cell_type": "code",
   "execution_count": 1,
   "metadata": {
    "id": "FfBx5W7GPG8U"
   },
   "outputs": [],
   "source": [
    "import pandas as pd\n",
    "import numpy as np\n",
    "import matplotlib.pyplot as plt\n",
    "from mpl_toolkits.mplot3d import Axes3D\n",
    "from sklearn.preprocessing import MinMaxScaler\n",
    "from sklearn.decomposition import PCA\n",
    "from sklearn.metrics import confusion_matrix, classification_report, accuracy_score\n",
    "from sklearn.preprocessing import LabelEncoder"
   ]
  },
  {
   "cell_type": "markdown",
   "metadata": {},
   "source": [
    "# Reading Datasets"
   ]
  },
  {
   "cell_type": "code",
   "execution_count": 2,
   "metadata": {
    "colab": {
     "base_uri": "https://localhost:8080/",
     "height": 206
    },
    "id": "tw0KpER-RZev",
    "outputId": "65e9a7a6-808e-4c79-ecd1-04e6d74c4c85"
   },
   "outputs": [
    {
     "data": {
      "text/html": [
       "<div>\n",
       "<style scoped>\n",
       "    .dataframe tbody tr th:only-of-type {\n",
       "        vertical-align: middle;\n",
       "    }\n",
       "\n",
       "    .dataframe tbody tr th {\n",
       "        vertical-align: top;\n",
       "    }\n",
       "\n",
       "    .dataframe thead th {\n",
       "        text-align: right;\n",
       "    }\n",
       "</style>\n",
       "<table border=\"1\" class=\"dataframe\">\n",
       "  <thead>\n",
       "    <tr style=\"text-align: right;\">\n",
       "      <th></th>\n",
       "      <th>sepal length(cm)</th>\n",
       "      <th>sepal width(cm)</th>\n",
       "      <th>petal_length(cm)</th>\n",
       "      <th>petal_width(cm)</th>\n",
       "      <th>target</th>\n",
       "    </tr>\n",
       "  </thead>\n",
       "  <tbody>\n",
       "    <tr>\n",
       "      <th>0</th>\n",
       "      <td>5.1</td>\n",
       "      <td>3.5</td>\n",
       "      <td>1.4</td>\n",
       "      <td>0.2</td>\n",
       "      <td>Iris-setosa</td>\n",
       "    </tr>\n",
       "    <tr>\n",
       "      <th>1</th>\n",
       "      <td>4.9</td>\n",
       "      <td>3.0</td>\n",
       "      <td>1.4</td>\n",
       "      <td>0.2</td>\n",
       "      <td>Iris-setosa</td>\n",
       "    </tr>\n",
       "    <tr>\n",
       "      <th>2</th>\n",
       "      <td>4.7</td>\n",
       "      <td>3.2</td>\n",
       "      <td>1.3</td>\n",
       "      <td>0.2</td>\n",
       "      <td>Iris-setosa</td>\n",
       "    </tr>\n",
       "    <tr>\n",
       "      <th>3</th>\n",
       "      <td>4.6</td>\n",
       "      <td>3.1</td>\n",
       "      <td>1.5</td>\n",
       "      <td>0.2</td>\n",
       "      <td>Iris-setosa</td>\n",
       "    </tr>\n",
       "    <tr>\n",
       "      <th>4</th>\n",
       "      <td>5.0</td>\n",
       "      <td>3.6</td>\n",
       "      <td>1.4</td>\n",
       "      <td>0.2</td>\n",
       "      <td>Iris-setosa</td>\n",
       "    </tr>\n",
       "  </tbody>\n",
       "</table>\n",
       "</div>"
      ],
      "text/plain": [
       "   sepal length(cm)  sepal width(cm)  petal_length(cm)  petal_width(cm)  \\\n",
       "0               5.1              3.5               1.4              0.2   \n",
       "1               4.9              3.0               1.4              0.2   \n",
       "2               4.7              3.2               1.3              0.2   \n",
       "3               4.6              3.1               1.5              0.2   \n",
       "4               5.0              3.6               1.4              0.2   \n",
       "\n",
       "        target  \n",
       "0  Iris-setosa  \n",
       "1  Iris-setosa  \n",
       "2  Iris-setosa  \n",
       "3  Iris-setosa  \n",
       "4  Iris-setosa  "
      ]
     },
     "execution_count": 2,
     "metadata": {},
     "output_type": "execute_result"
    }
   ],
   "source": [
    "data = pd.read_csv('iris.txt', delimiter=',', names = ['sepal length(cm)','sepal width(cm)', 'petal_length(cm)', 'petal_width(cm)', 'target'])\n",
    "data.head()"
   ]
  },
  {
   "cell_type": "markdown",
   "metadata": {},
   "source": [
    "# Data Manipulation"
   ]
  },
  {
   "cell_type": "code",
   "execution_count": 3,
   "metadata": {
    "colab": {
     "base_uri": "https://localhost:8080/",
     "height": 206
    },
    "id": "6XluX5PSxK92",
    "outputId": "137d0c2b-946b-4c4e-de10-f3900b34efd9"
   },
   "outputs": [
    {
     "data": {
      "text/html": [
       "<div>\n",
       "<style scoped>\n",
       "    .dataframe tbody tr th:only-of-type {\n",
       "        vertical-align: middle;\n",
       "    }\n",
       "\n",
       "    .dataframe tbody tr th {\n",
       "        vertical-align: top;\n",
       "    }\n",
       "\n",
       "    .dataframe thead th {\n",
       "        text-align: right;\n",
       "    }\n",
       "</style>\n",
       "<table border=\"1\" class=\"dataframe\">\n",
       "  <thead>\n",
       "    <tr style=\"text-align: right;\">\n",
       "      <th></th>\n",
       "      <th>sepal length(cm)</th>\n",
       "      <th>sepal width(cm)</th>\n",
       "      <th>petal_length(cm)</th>\n",
       "      <th>petal_width(cm)</th>\n",
       "      <th>target</th>\n",
       "    </tr>\n",
       "  </thead>\n",
       "  <tbody>\n",
       "    <tr>\n",
       "      <th>0</th>\n",
       "      <td>5.1</td>\n",
       "      <td>3.5</td>\n",
       "      <td>1.4</td>\n",
       "      <td>0.2</td>\n",
       "      <td>0</td>\n",
       "    </tr>\n",
       "    <tr>\n",
       "      <th>1</th>\n",
       "      <td>4.9</td>\n",
       "      <td>3.0</td>\n",
       "      <td>1.4</td>\n",
       "      <td>0.2</td>\n",
       "      <td>0</td>\n",
       "    </tr>\n",
       "    <tr>\n",
       "      <th>2</th>\n",
       "      <td>4.7</td>\n",
       "      <td>3.2</td>\n",
       "      <td>1.3</td>\n",
       "      <td>0.2</td>\n",
       "      <td>0</td>\n",
       "    </tr>\n",
       "    <tr>\n",
       "      <th>3</th>\n",
       "      <td>4.6</td>\n",
       "      <td>3.1</td>\n",
       "      <td>1.5</td>\n",
       "      <td>0.2</td>\n",
       "      <td>0</td>\n",
       "    </tr>\n",
       "    <tr>\n",
       "      <th>4</th>\n",
       "      <td>5.0</td>\n",
       "      <td>3.6</td>\n",
       "      <td>1.4</td>\n",
       "      <td>0.2</td>\n",
       "      <td>0</td>\n",
       "    </tr>\n",
       "  </tbody>\n",
       "</table>\n",
       "</div>"
      ],
      "text/plain": [
       "   sepal length(cm)  sepal width(cm)  petal_length(cm)  petal_width(cm)  \\\n",
       "0               5.1              3.5               1.4              0.2   \n",
       "1               4.9              3.0               1.4              0.2   \n",
       "2               4.7              3.2               1.3              0.2   \n",
       "3               4.6              3.1               1.5              0.2   \n",
       "4               5.0              3.6               1.4              0.2   \n",
       "\n",
       "   target  \n",
       "0       0  \n",
       "1       0  \n",
       "2       0  \n",
       "3       0  \n",
       "4       0  "
      ]
     },
     "execution_count": 3,
     "metadata": {},
     "output_type": "execute_result"
    }
   ],
   "source": [
    "data['target'] = data['target'].replace({'Iris-setosa': 0, 'Iris-versicolor': 1, 'Iris-virginica':2})\n",
    "data.head()"
   ]
  },
  {
   "cell_type": "code",
   "execution_count": 4,
   "metadata": {
    "colab": {
     "base_uri": "https://localhost:8080/"
    },
    "id": "ag39gMv9RlSz",
    "outputId": "0966c7c2-ca37-4ff9-bb54-d11fa827e40a"
   },
   "outputs": [
    {
     "name": "stdout",
     "output_type": "stream",
     "text": [
      "     sepal length(cm)  sepal width(cm)  petal_length(cm)  petal_width(cm)\n",
      "0                 5.1              3.5               1.4              0.2\n",
      "1                 4.9              3.0               1.4              0.2\n",
      "2                 4.7              3.2               1.3              0.2\n",
      "3                 4.6              3.1               1.5              0.2\n",
      "4                 5.0              3.6               1.4              0.2\n",
      "..                ...              ...               ...              ...\n",
      "145               6.7              3.0               5.2              2.3\n",
      "146               6.3              2.5               5.0              1.9\n",
      "147               6.5              3.0               5.2              2.0\n",
      "148               6.2              3.4               5.4              2.3\n",
      "149               5.9              3.0               5.1              1.8\n",
      "\n",
      "[150 rows x 4 columns]\n"
     ]
    }
   ],
   "source": [
    "x_data = data.iloc[:, :4]\n",
    "print(x_data)"
   ]
  },
  {
   "cell_type": "code",
   "execution_count": 5,
   "metadata": {
    "colab": {
     "base_uri": "https://localhost:8080/"
    },
    "id": "cfqISAyDVAt9",
    "outputId": "103c24ac-5039-48fb-c70d-2e86b027d4af"
   },
   "outputs": [
    {
     "name": "stdout",
     "output_type": "stream",
     "text": [
      "0      0\n",
      "1      0\n",
      "2      0\n",
      "3      0\n",
      "4      0\n",
      "      ..\n",
      "145    2\n",
      "146    2\n",
      "147    2\n",
      "148    2\n",
      "149    2\n",
      "Name: target, Length: 150, dtype: int64\n"
     ]
    }
   ],
   "source": [
    "y_data = data.iloc[:, 4]\n",
    "print(y_data)"
   ]
  },
  {
   "cell_type": "code",
   "execution_count": 6,
   "metadata": {
    "colab": {
     "base_uri": "https://localhost:8080/"
    },
    "id": "Z1t7fEqNVMP-",
    "outputId": "6152f1f6-8058-4cef-e4b5-5fd59962f993"
   },
   "outputs": [
    {
     "data": {
      "text/plain": [
       "sepal length(cm)    0\n",
       "sepal width(cm)     0\n",
       "petal_length(cm)    0\n",
       "petal_width(cm)     0\n",
       "dtype: int64"
      ]
     },
     "execution_count": 6,
     "metadata": {},
     "output_type": "execute_result"
    }
   ],
   "source": [
    "x_data.isnull().sum()"
   ]
  },
  {
   "cell_type": "markdown",
   "metadata": {
    "id": "tFeCzaQAtsYN"
   },
   "source": [
    "# Data Normalization"
   ]
  },
  {
   "cell_type": "code",
   "execution_count": 7,
   "metadata": {
    "id": "Jwg3uKMuWmX5"
   },
   "outputs": [],
   "source": [
    "scaler = MinMaxScaler()"
   ]
  },
  {
   "cell_type": "code",
   "execution_count": 8,
   "metadata": {
    "colab": {
     "base_uri": "https://localhost:8080/",
     "height": 206
    },
    "id": "DlCfRCkYX3qU",
    "outputId": "330f3394-6d27-4300-d297-9cd05325e4d9"
   },
   "outputs": [
    {
     "data": {
      "text/html": [
       "<div>\n",
       "<style scoped>\n",
       "    .dataframe tbody tr th:only-of-type {\n",
       "        vertical-align: middle;\n",
       "    }\n",
       "\n",
       "    .dataframe tbody tr th {\n",
       "        vertical-align: top;\n",
       "    }\n",
       "\n",
       "    .dataframe thead th {\n",
       "        text-align: right;\n",
       "    }\n",
       "</style>\n",
       "<table border=\"1\" class=\"dataframe\">\n",
       "  <thead>\n",
       "    <tr style=\"text-align: right;\">\n",
       "      <th></th>\n",
       "      <th>sepal length(cm)</th>\n",
       "      <th>sepal width(cm)</th>\n",
       "      <th>petal_length(cm)</th>\n",
       "      <th>petal_width(cm)</th>\n",
       "    </tr>\n",
       "  </thead>\n",
       "  <tbody>\n",
       "    <tr>\n",
       "      <th>0</th>\n",
       "      <td>0.222222</td>\n",
       "      <td>0.625000</td>\n",
       "      <td>0.067797</td>\n",
       "      <td>0.041667</td>\n",
       "    </tr>\n",
       "    <tr>\n",
       "      <th>1</th>\n",
       "      <td>0.166667</td>\n",
       "      <td>0.416667</td>\n",
       "      <td>0.067797</td>\n",
       "      <td>0.041667</td>\n",
       "    </tr>\n",
       "    <tr>\n",
       "      <th>2</th>\n",
       "      <td>0.111111</td>\n",
       "      <td>0.500000</td>\n",
       "      <td>0.050847</td>\n",
       "      <td>0.041667</td>\n",
       "    </tr>\n",
       "    <tr>\n",
       "      <th>3</th>\n",
       "      <td>0.083333</td>\n",
       "      <td>0.458333</td>\n",
       "      <td>0.084746</td>\n",
       "      <td>0.041667</td>\n",
       "    </tr>\n",
       "    <tr>\n",
       "      <th>4</th>\n",
       "      <td>0.194444</td>\n",
       "      <td>0.666667</td>\n",
       "      <td>0.067797</td>\n",
       "      <td>0.041667</td>\n",
       "    </tr>\n",
       "  </tbody>\n",
       "</table>\n",
       "</div>"
      ],
      "text/plain": [
       "   sepal length(cm)  sepal width(cm)  petal_length(cm)  petal_width(cm)\n",
       "0          0.222222         0.625000          0.067797         0.041667\n",
       "1          0.166667         0.416667          0.067797         0.041667\n",
       "2          0.111111         0.500000          0.050847         0.041667\n",
       "3          0.083333         0.458333          0.084746         0.041667\n",
       "4          0.194444         0.666667          0.067797         0.041667"
      ]
     },
     "execution_count": 8,
     "metadata": {},
     "output_type": "execute_result"
    }
   ],
   "source": [
    "x_transformed = pd.DataFrame(scaler.fit_transform(x_data), columns=x_data.columns)\n",
    "x_transformed.head()"
   ]
  },
  {
   "cell_type": "markdown",
   "metadata": {
    "id": "N_iuGk5Ttw9A"
   },
   "source": [
    "# Dimensionality Reduction"
   ]
  },
  {
   "cell_type": "code",
   "execution_count": 9,
   "metadata": {
    "colab": {
     "base_uri": "https://localhost:8080/",
     "height": 206
    },
    "id": "qC43fhDKY56p",
    "outputId": "c07c0a3f-a2b9-497f-8076-b534bff4c186"
   },
   "outputs": [
    {
     "data": {
      "text/html": [
       "<div>\n",
       "<style scoped>\n",
       "    .dataframe tbody tr th:only-of-type {\n",
       "        vertical-align: middle;\n",
       "    }\n",
       "\n",
       "    .dataframe tbody tr th {\n",
       "        vertical-align: top;\n",
       "    }\n",
       "\n",
       "    .dataframe thead th {\n",
       "        text-align: right;\n",
       "    }\n",
       "</style>\n",
       "<table border=\"1\" class=\"dataframe\">\n",
       "  <thead>\n",
       "    <tr style=\"text-align: right;\">\n",
       "      <th></th>\n",
       "      <th>principal component 1</th>\n",
       "      <th>principal component 2</th>\n",
       "      <th>principal component 3</th>\n",
       "    </tr>\n",
       "  </thead>\n",
       "  <tbody>\n",
       "    <tr>\n",
       "      <th>0</th>\n",
       "      <td>-0.630361</td>\n",
       "      <td>0.111556</td>\n",
       "      <td>-0.016993</td>\n",
       "    </tr>\n",
       "    <tr>\n",
       "      <th>1</th>\n",
       "      <td>-0.623546</td>\n",
       "      <td>-0.100313</td>\n",
       "      <td>-0.047120</td>\n",
       "    </tr>\n",
       "    <tr>\n",
       "      <th>2</th>\n",
       "      <td>-0.669793</td>\n",
       "      <td>-0.047220</td>\n",
       "      <td>0.021648</td>\n",
       "    </tr>\n",
       "    <tr>\n",
       "      <th>3</th>\n",
       "      <td>-0.654633</td>\n",
       "      <td>-0.098791</td>\n",
       "      <td>0.025214</td>\n",
       "    </tr>\n",
       "    <tr>\n",
       "      <th>4</th>\n",
       "      <td>-0.648263</td>\n",
       "      <td>0.137558</td>\n",
       "      <td>0.016813</td>\n",
       "    </tr>\n",
       "  </tbody>\n",
       "</table>\n",
       "</div>"
      ],
      "text/plain": [
       "   principal component 1  principal component 2  principal component 3\n",
       "0              -0.630361               0.111556              -0.016993\n",
       "1              -0.623546              -0.100313              -0.047120\n",
       "2              -0.669793              -0.047220               0.021648\n",
       "3              -0.654633              -0.098791               0.025214\n",
       "4              -0.648263               0.137558               0.016813"
      ]
     },
     "execution_count": 9,
     "metadata": {},
     "output_type": "execute_result"
    }
   ],
   "source": [
    "pca = PCA(n_components=3)\n",
    "principalComponents = pca.fit_transform(x_transformed)\n",
    "df = pd.DataFrame(data = principalComponents, columns = ['principal component 1', 'principal component 2', 'principal component 3'])\n",
    "df.head()"
   ]
  },
  {
   "cell_type": "code",
   "execution_count": 10,
   "metadata": {
    "colab": {
     "base_uri": "https://localhost:8080/"
    },
    "id": "YOUQW-90dUC6",
    "outputId": "0cb8b7cd-5a01-423a-c142-8d241e622795"
   },
   "outputs": [
    {
     "name": "stdout",
     "output_type": "stream",
     "text": [
      "[[-6.30361249e-01  1.11556258e-01 -1.69929115e-02]\n",
      " [-6.23546310e-01 -1.00313199e-01 -4.71201236e-02]\n",
      " [-6.69792802e-01 -4.72200571e-02  2.16477393e-02]\n",
      " [-6.54633051e-01 -9.87912747e-02  2.52141464e-02]\n",
      " [-6.48263265e-01  1.37557689e-01  1.68125515e-02]\n",
      " [-5.34057000e-01  2.93223042e-01  2.67364715e-02]\n",
      " [-6.56395887e-01  1.49219390e-02  9.36980789e-02]\n",
      " [-6.25643957e-01  6.10753191e-02 -1.22695676e-02]\n",
      " [-6.76525845e-01 -1.96482315e-01  3.81316446e-02]\n",
      " [-6.46137172e-01 -6.32422300e-02 -5.97536915e-02]\n",
      " [-5.96654863e-01  2.20941913e-01 -4.97532816e-02]\n",
      " [-6.38828681e-01  3.65958117e-02  2.62592393e-02]\n",
      " [-6.62304799e-01 -1.11542611e-01 -5.27164740e-02]\n",
      " [-7.52700136e-01 -1.66744846e-01  4.99686959e-02]\n",
      " [-5.98993148e-01  3.84079343e-01 -8.37661851e-02]\n",
      " [-5.49943265e-01  5.18967671e-01  3.93346854e-02]\n",
      " [-5.75826838e-01  2.97584158e-01  3.13642188e-02]\n",
      " [-6.03416352e-01  1.11091056e-01  8.44631071e-03]\n",
      " [-5.19472697e-01  2.91076041e-01 -7.21939575e-02]\n",
      " [-6.11239166e-01  2.23088914e-01  4.91771474e-02]\n",
      " [-5.57504671e-01  1.05673218e-01 -9.39549288e-02]\n",
      " [-5.78205845e-01  1.84927666e-01  6.06537784e-02]\n",
      " [-7.37287470e-01  9.51403474e-02  1.00811786e-01]\n",
      " [-5.06022332e-01  3.14977242e-02  2.79287623e-02]\n",
      " [-6.07501302e-01  3.33249752e-02  2.27884288e-02]\n",
      " [-5.90847800e-01 -9.07991421e-02 -6.92768692e-02]\n",
      " [-5.61311704e-01  5.90546363e-02  3.74519400e-02]\n",
      " [-6.08105198e-01  1.22160593e-01 -3.79927202e-02]\n",
      " [-6.12459233e-01  8.55548264e-02 -5.07983746e-02]\n",
      " [-6.38465424e-01 -5.04908937e-02  1.81769288e-02]\n",
      " [-6.20563408e-01 -7.64923250e-02 -1.56285342e-02]\n",
      " [-5.24499797e-01  1.06923372e-01 -4.07626107e-02]\n",
      " [-6.71580640e-01  3.48802069e-01  2.03436046e-02]\n",
      " [-6.25725853e-01  4.22207034e-01  1.37373920e-03]\n",
      " [-6.46137172e-01 -6.32422300e-02 -5.97536915e-02]\n",
      " [-6.44794486e-01 -1.10459356e-02 -3.67239395e-02]\n",
      " [-5.93549341e-01  1.59424994e-01 -9.52074622e-02]\n",
      " [-6.46137172e-01 -6.32422300e-02 -5.97536915e-02]\n",
      " [-6.93056729e-01 -1.57695991e-01  5.32511726e-02]\n",
      " [-6.13830365e-01  7.27699333e-02 -3.21124395e-02]\n",
      " [-6.25672404e-01  1.00486720e-01  2.94461194e-02]\n",
      " [-6.11679270e-01 -4.10338898e-01 -3.88906153e-02]\n",
      " [-7.05233577e-01 -8.23038999e-02  8.11763550e-02]\n",
      " [-5.13510336e-01  9.58202780e-02  1.02292976e-01]\n",
      " [-5.42524432e-01  2.18262596e-01  6.99886223e-02]\n",
      " [-6.08415006e-01 -1.12473015e-01 -1.83802954e-03]\n",
      " [-6.27741603e-01  2.22463837e-01  2.25809884e-02]\n",
      " [-6.71163934e-01 -6.00049502e-02  4.03336744e-02]\n",
      " [-6.08468455e-01  2.09247299e-01 -2.99104098e-02]\n",
      " [-6.29997992e-01  2.44695523e-02 -2.50752220e-02]\n",
      " [ 2.80302189e-01  1.79104167e-01 -1.68803500e-01]\n",
      " [ 2.15480616e-01  1.10651837e-01 -2.19931724e-02]\n",
      " [ 3.22406837e-01  1.27067747e-01 -1.39797870e-01]\n",
      " [ 5.78520189e-02 -3.27482303e-01 -1.41644064e-02]\n",
      " [ 2.62090364e-01 -2.95280100e-02 -9.88433459e-02]\n",
      " [ 1.03249378e-01 -1.21064241e-01  1.01781216e-02]\n",
      " [ 2.45408415e-01  1.34007509e-01  3.49376392e-02]\n",
      " [-1.73049862e-01 -3.50926386e-01  5.06363072e-02]\n",
      " [ 2.13925739e-01  2.07930537e-02 -1.55602071e-01]\n",
      " [ 1.45599831e-02 -2.11156887e-01  1.27810733e-01]\n",
      " [-1.15997654e-01 -4.92196511e-01 -2.73708030e-02]\n",
      " [ 1.37262127e-01 -1.99424890e-02  5.27668151e-02]\n",
      " [ 4.21737126e-02 -3.05309672e-01 -2.03659024e-01]\n",
      " [ 1.92245136e-01 -3.92354984e-02 -3.21054262e-02]\n",
      " [-8.63477364e-03 -8.52503004e-02  5.43960161e-02]\n",
      " [ 2.19622459e-01  1.09595115e-01 -1.19766665e-01]\n",
      " [ 1.33148730e-01 -5.82971683e-02  1.08824620e-01]\n",
      " [-1.45313340e-03 -1.41308951e-01 -9.53172608e-02]\n",
      " [ 2.52737676e-01 -2.89697847e-01 -1.21933340e-01]\n",
      " [-6.84349059e-03 -2.38374915e-01 -5.58036035e-02]\n",
      " [ 2.68574725e-01  4.75123232e-02  1.50068043e-01]\n",
      " [ 9.82914475e-02 -6.88343901e-02 -6.34086818e-02]\n",
      " [ 2.88055833e-01 -1.69276212e-01 -1.04516186e-01]\n",
      " [ 1.44443767e-01 -7.60011400e-02 -9.69464618e-02]\n",
      " [ 1.58971177e-01  6.74661709e-04 -1.12445517e-01]\n",
      " [ 2.13897292e-01  6.02044550e-02 -1.13886384e-01]\n",
      " [ 2.91471162e-01  3.84047698e-03 -1.86125057e-01]\n",
      " [ 3.69200330e-01  6.39617903e-02 -6.43532102e-02]\n",
      " [ 1.86491522e-01 -4.92147569e-02  1.54905415e-02]\n",
      " [-6.98330577e-02 -1.84157938e-01 -8.24953591e-02]\n",
      " [-2.30111174e-02 -2.86675296e-01 -4.87663860e-02]\n",
      " [-6.03984734e-02 -2.85119816e-01 -7.30486714e-02]\n",
      " [ 3.15517406e-02 -1.40058798e-01 -4.21249427e-02]\n",
      " [ 2.88268024e-01 -1.31613723e-01  6.06296042e-03]\n",
      " [ 1.09521547e-01 -8.16863968e-02  1.48510364e-01]\n",
      " [ 1.82994296e-01  1.38800269e-01  1.10742720e-01]\n",
      " [ 2.77894734e-01  1.05859076e-01 -9.77982529e-02]\n",
      " [ 1.94130591e-01 -2.38286505e-01 -1.77535129e-01]\n",
      " [ 3.74890994e-02 -5.30056490e-02  6.25739231e-02]\n",
      " [ 4.56751701e-02 -2.52090212e-01  1.37607760e-02]\n",
      " [ 5.44116872e-02 -2.18290080e-01 -2.34360240e-03]\n",
      " [ 1.75714252e-01 -4.49173945e-04 -1.69858982e-02]\n",
      " [ 4.80826245e-02 -1.78845122e-01 -5.72444707e-02]\n",
      " [-1.55147846e-01 -3.76927817e-01  1.68308442e-02]\n",
      " [ 6.61968321e-02 -1.67184065e-01  1.95292128e-02]\n",
      " [ 3.28002541e-02 -4.19361117e-02  1.61348922e-02]\n",
      " [ 6.58335750e-02 -8.00973592e-02  2.76115232e-02]\n",
      " [ 1.35343993e-01 -2.27145668e-02 -7.27597730e-02]\n",
      " [-1.59893585e-01 -2.87035477e-01  5.38231874e-02]\n",
      " [ 6.14795399e-02 -1.16703126e-01  1.48058689e-02]\n",
      " [ 6.23664457e-01  1.15647066e-01  2.48850460e-01]\n",
      " [ 3.45475530e-01 -1.56398557e-01  1.22066371e-01]\n",
      " [ 6.18216418e-01  9.90669300e-02 -5.23802403e-02]\n",
      " [ 4.17634041e-01 -2.75195872e-02  1.95532874e-02]\n",
      " [ 5.63837305e-01  2.95243214e-02  9.32731500e-02]\n",
      " [ 7.50381594e-01  1.49908049e-01 -1.59693158e-01]\n",
      " [ 1.34785503e-01 -3.29570100e-01  2.28790212e-01]\n",
      " [ 6.08867175e-01  8.17946034e-02 -1.86973989e-01]\n",
      " [ 5.10127024e-01 -1.33705870e-01 -1.17982438e-01]\n",
      " [ 7.22163969e-01  3.32896452e-01  1.10995450e-01]\n",
      " [ 4.24673447e-01  1.13478768e-01  7.84184458e-02]\n",
      " [ 4.37241999e-01 -8.84114295e-02  6.95265883e-04]\n",
      " [ 5.41005805e-01  6.83442026e-02  1.17761227e-02]\n",
      " [ 3.62341224e-01 -2.42860186e-01  1.40580219e-01]\n",
      " [ 4.74111588e-01 -1.21028522e-01  2.63225073e-01]\n",
      " [ 5.14579463e-01  9.82079905e-02  1.72265111e-01]\n",
      " [ 4.24730340e-01  3.46559657e-02 -5.01292835e-03]\n",
      " [ 7.50875146e-01  4.61615547e-01 -4.35530146e-02]\n",
      " [ 8.71766054e-01  6.61724088e-03 -1.87978760e-01]\n",
      " [ 2.81322790e-01 -3.18538470e-01 -8.80322809e-02]\n",
      " [ 6.15417260e-01  1.52319946e-01  6.84230039e-02]\n",
      " [ 3.21819899e-01 -1.40376385e-01  2.03467802e-01]\n",
      " [ 7.57869597e-01  8.55854956e-02 -2.34057371e-01]\n",
      " [ 3.56713673e-01 -9.52797265e-02 -2.73337126e-04]\n",
      " [ 5.31811859e-01  1.67557167e-01  7.11928944e-02]\n",
      " [ 5.47460931e-01  1.86458962e-01 -1.21772533e-01]\n",
      " [ 3.28369198e-01 -6.81880163e-02  3.46890628e-02]\n",
      " [ 3.14821216e-01 -5.58081827e-03  8.13001802e-02]\n",
      " [ 5.16370746e-01 -5.49166244e-02  6.20654910e-02]\n",
      " [ 4.84863068e-01  1.14177833e-01 -1.98262286e-01]\n",
      " [ 6.32829168e-01  5.75085278e-02 -1.93026356e-01]\n",
      " [ 6.89285158e-01  4.89206016e-01 -1.30646392e-01]\n",
      " [ 5.43315643e-01 -5.53818263e-02  8.75047132e-02]\n",
      " [ 2.90675478e-01 -5.83686327e-02 -6.49422863e-02]\n",
      " [ 3.04492544e-01 -1.62136145e-01 -8.44056312e-02]\n",
      " [ 7.63872681e-01  1.66123654e-01 -1.22872901e-01]\n",
      " [ 5.48861298e-01  1.58169429e-01  2.42001577e-01]\n",
      " [ 4.06828324e-01  6.06573970e-02  2.87925347e-02]\n",
      " [ 2.92565165e-01 -1.61851537e-02  1.02299989e-01]\n",
      " [ 5.36288513e-01  1.18825141e-01  7.05277879e-03]\n",
      " [ 6.14380938e-01  9.18597492e-02  1.20742316e-01]\n",
      " [ 5.58850928e-01  1.21165574e-01  6.14020337e-02]\n",
      " [ 3.45475530e-01 -1.56398557e-01  1.22066371e-01]\n",
      " [ 6.24488587e-01  1.38444774e-01  8.59520021e-02]\n",
      " [ 6.39591445e-01  1.65696360e-01  1.72949783e-01]\n",
      " [ 5.51754628e-01  5.89900210e-02  8.59682495e-02]\n",
      " [ 4.06277878e-01 -1.72227298e-01 -3.91623409e-03]\n",
      " [ 4.47292755e-01  3.69963983e-02  4.93363266e-02]\n",
      " [ 4.89217891e-01  1.49120574e-01  2.38719100e-01]\n",
      " [ 3.12078952e-01 -3.11506044e-02  1.18672050e-01]]\n"
     ]
    }
   ],
   "source": [
    "datapoints = df.values\n",
    "m, f = datapoints.shape\n",
    "k = 3\n",
    "print(datapoints)"
   ]
  },
  {
   "cell_type": "markdown",
   "metadata": {
    "id": "6Sub-01yta0y"
   },
   "source": [
    "# Data Visualisation"
   ]
  },
  {
   "cell_type": "code",
   "execution_count": 11,
   "metadata": {
    "colab": {
     "base_uri": "https://localhost:8080/",
     "height": 463
    },
    "id": "Ketdn8BLiIqK",
    "outputId": "ddc1c3ef-372d-4dcc-9683-6cd01ec73314"
   },
   "outputs": [
    {
     "data": {
      "image/png": "[encoded data removed]",
      "text/plain": [
       "<Figure size 576x432 with 1 Axes>"
      ]
     },
     "metadata": {
      "needs_background": "light"
     },
     "output_type": "display_data"
    }
   ],
   "source": [
    "fig = plt.figure(1, figsize=(8, 6))\n",
    "ax = Axes3D(fig, elev=-150, azim=110)\n",
    "X_reduced = datapoints\n",
    "ax.scatter(X_reduced[:, 0], X_reduced[:, 1], X_reduced[:, 2], cmap=plt.cm.Set1, edgecolor='r', s=40)\n",
    "ax.set_title(\"First three PCA directions\")\n",
    "ax.set_xlabel(\"principal component 1\")\n",
    "ax.w_xaxis.set_ticklabels([])\n",
    "ax.set_ylabel(\"principal component 1\")\n",
    "ax.w_yaxis.set_ticklabels([])\n",
    "ax.set_zlabel(\"principal component 1\")\n",
    "ax.w_zaxis.set_ticklabels([])\n",
    "plt.show()"
   ]
  },
  {
   "cell_type": "markdown",
   "metadata": {
    "id": "kuSH9Fg_t36y"
   },
   "source": [
    "# Algorithm Implementation"
   ]
  },
  {
   "cell_type": "code",
   "execution_count": 12,
   "metadata": {
    "id": "WFgDJiG0afLx"
   },
   "outputs": [],
   "source": [
    "def init_mediods(X, k):\n",
    "    np.random.seed(1)\n",
    "    samples = np.random.choice(len(X), size=k, replace=False)\n",
    "    return X[samples, :]"
   ]
  },
  {
   "cell_type": "code",
   "execution_count": 13,
   "metadata": {
    "colab": {
     "base_uri": "https://localhost:8080/"
    },
    "id": "zrEnnGU1a4aP",
    "outputId": "dc0fac89-c215-4c74-d789-0e82a3e3dc03"
   },
   "outputs": [
    {
     "name": "stdout",
     "output_type": "stream",
     "text": [
      "[[-0.59899315  0.38407934 -0.08376619]\n",
      " [-0.15989358 -0.28703548  0.05382319]\n",
      " [ 0.21389729  0.06020445 -0.11388638]]\n"
     ]
    }
   ],
   "source": [
    "mediods_initial = init_mediods(datapoints, 3)\n",
    "print(mediods_initial)"
   ]
  },
  {
   "cell_type": "code",
   "execution_count": 14,
   "metadata": {
    "id": "SYizGA0bbFHx"
   },
   "outputs": [],
   "source": [
    "def comp_distance(X, mediods, p):\n",
    "    m = len(X)\n",
    "    mediods_shape = mediods.shape\n",
    "  \n",
    "      if len(mediods_shape) == 1:\n",
    "        mediods = mediods.reshape((1, len(mediods)))\n",
    "  \n",
    "      k = len(mediods)\n",
    "\n",
    "      S = np.empty((m, k))\n",
    "\n",
    "    for i in range(m):\n",
    "        d_i = np.linalg.norm(X[i, :]-mediods, ord=p, axis=1)\n",
    "        S[i, :] = d_i**p\n",
    "\n",
    "    return S"
   ]
  },
  {
   "cell_type": "code",
   "execution_count": 15,
   "metadata": {
    "colab": {
     "base_uri": "https://localhost:8080/"
    },
    "id": "rdoFu5BBexUD",
    "outputId": "a07890ca-fd4e-4af5-d521-0f6517ea9dff"
   },
   "outputs": [
    {
     "name": "stdout",
     "output_type": "stream",
     "text": [
      "[[0.07971146 0.38523011 0.72479784]\n",
      " [0.23658193 0.26002861 0.73153544]\n",
      " [0.20214386 0.31854391 0.81081771]\n",
      " [0.24813654 0.2810215  0.79897356]\n",
      " [0.07331655 0.42015409 0.76638656]\n",
      " [0.02468241 0.4774319  0.63350807]\n",
      " [0.17106583 0.33928282 0.80255203]\n",
      " [0.11015363 0.34247279 0.71515624]\n",
      " [0.35792224 0.27535499 0.88185094]\n",
      " [0.20289575 0.29941595 0.75782871]\n",
      " [0.02777617 0.45952953 0.68694438]\n",
      " [0.13443727 0.33487581 0.74733975]\n",
      " [0.25061357 0.29456547 0.80096892]\n",
      " [0.34491814 0.3659043  1.01266506]\n",
      " [0.         0.66213436 0.76659304]\n",
      " [0.03575458 0.80198974 0.81739278]\n",
      " [0.0212731  0.51528499 0.70111106]\n",
      " [0.08304531 0.35727624 0.68555633]\n",
      " [0.01510703 0.47939039 0.59287149]\n",
      " [0.04374181 0.46396131 0.73397124]\n",
      " [0.07933507 0.33415307 0.59752566]\n",
      " [0.06095063 0.39778101 0.67344753]\n",
      " [0.13668009 0.48164999 0.95206827]\n",
      " [0.14543313 0.22193903 0.53921988]\n",
      " [0.1344549  0.30394664 0.69409816]\n",
      " [0.22578586 0.23938386 0.67240676]\n",
      " [0.12175478 0.28118289 0.6238536 ]\n",
      " [0.07077967 0.37676523 0.6852865 ]\n",
      " [0.0903851  0.35458487 0.68748784]\n",
      " [0.20080175 0.286255   0.75621638]\n",
      " [0.21723428 0.26136865 0.72466527]\n",
      " [0.084214   0.29708774 0.55276   ]\n",
      " [0.01735228 0.66723391 0.88537744]\n",
      " [0.00941717 0.72277559 0.84929779]\n",
      " [0.20289575 0.29941595 0.75782871]\n",
      " [0.16043472 0.31949789 0.74838223]\n",
      " [0.05063011 0.4095944  0.66216368]\n",
      " [0.20289575 0.29941595 0.75782871]\n",
      " [0.32114223 0.30099197 0.89798116]\n",
      " [0.0998018  0.34290347 0.69197794]\n",
      " [0.09395358 0.3677176  0.72704414]\n",
      " [0.6332751  0.22790989 0.90861207]\n",
      " [0.2560064  0.34005892 0.90315966]\n",
      " [0.12501861 0.27397266 0.57712386]\n",
      " [0.05432445 0.40199383 0.63096622]\n",
      " [0.25336524 0.23474169 0.71856986]\n",
      " [0.03825577 0.47944739 0.75330748]\n",
      " [0.21782026 0.3131222  0.8215675 ]\n",
      " [0.03355647 0.45452732 0.70555115]\n",
      " [0.13372513 0.3242585  0.72132366]\n",
      " [0.82240646 0.46062113 0.02156264]\n",
      " [0.74194602 0.30480911 0.01099181]\n",
      " [0.91817244 0.44158429 0.01691643]\n",
      " [0.94260996 0.05367141 0.18459562]\n",
      " [0.91276318 0.26768762 0.01060078]\n",
      " [0.75714014 0.09869556 0.0604933 ]\n",
      " [0.78964052 0.34190357 0.02858843]\n",
      " [0.73972513 0.00426529 0.34582438]\n",
      " [0.79797444 0.27835823 0.00329346]\n",
      " [0.77551841 0.04166576 0.17178984]\n",
      " [1.00432446 0.05061037 0.42146245]\n",
      " [0.72394673 0.1596413  0.04006977]\n",
      " [0.90072645 0.10746223 0.17114869]\n",
      " [0.80792231 0.19279023 0.01704525]\n",
      " [0.58788212 0.06359681 0.09899657]\n",
      " [0.74676914 0.33148169 0.00250679]\n",
      " [0.76881993 0.14122017 0.07016316]\n",
      " [0.63322036 0.06858247 0.08732827]\n",
      " [1.18087783 0.201162   0.12400495]\n",
      " [0.73887243 0.03781021 0.14124974]\n",
      " [0.92062982 0.3047704  0.07282265]\n",
      " [0.69175108 0.12801454 0.03256373]\n",
      " [1.09348883 0.23959728 0.05824867]\n",
      " [0.76454622 0.1598882  0.02366272]\n",
      " [0.72233157 0.21209714 0.00656275]\n",
      " [0.76659304 0.28842169 0.        ]\n",
      " [0.94798562 0.34591412 0.01441303]\n",
      " [1.04025072 0.41710511 0.02658669]\n",
      " [0.81458184 0.17801073 0.02946203]\n",
      " [0.60290562 0.03727743 0.14120129]\n",
      " [0.78289207 0.02926156 0.18069177]\n",
      " [0.7380266  0.02599942 0.19615474]\n",
      " [0.67404164 0.0674595  0.07850497]\n",
      " [1.061241   0.22728579 0.05671306]\n",
      " [0.77288319 0.12371842 0.09987936]\n",
      " [0.7094999  0.30214801 0.05759053]\n",
      " [0.84653577 0.3690138  0.00643885]\n",
      " [1.02517713 0.18123625 0.09353874]\n",
      " [0.61756837 0.09380646 0.07507462]\n",
      " [0.82982045 0.04508468 0.14212044]\n",
      " [0.79641644 0.05380739 0.11543666]\n",
      " [0.75249334 0.19977826 0.01452651]\n",
      " [0.73629441 0.06729528 0.08784751]\n",
      " [0.78625031 0.00947159 0.34436593]\n",
      " [0.75703899 0.06665731 0.09132069]\n",
      " [0.5906323  0.09862502 0.06013436]\n",
      " [0.66985958 0.09446319 0.06162912]\n",
      " [0.70485346 0.17305402 0.01473758]\n",
      " [0.66213436 0.         0.28842169]\n",
      " [0.6967237  0.07954152 0.07108916]\n",
      " [1.67758134 0.81415207 0.30256103]\n",
      " [1.22650448 0.27712108 0.1199034 ]\n",
      " [1.56381628 0.76580941 0.16876725]\n",
      " [1.21361943 0.40206108 0.06701032]\n",
      " [1.50922685 0.62555281 0.16631436]\n",
      " [1.88141329 1.06510977 0.2979604 ]\n",
      " [1.14541814 0.11925842 0.27561013]\n",
      " [1.56095447 0.78501201 0.16180914]\n",
      " [1.49941983 0.50195476 0.12537005]\n",
      " [1.78600791 1.16560979 0.38326778]\n",
      " [1.14742182 0.5027352  0.08424589]\n",
      " [1.30416455 0.39884499 0.08509849]\n",
      " [1.40841462 0.61932263 0.1228573 ]\n",
      " [1.36754826 0.28220743 0.17863703]\n",
      " [1.52709066 0.47337002 0.24276992]\n",
      " [1.38731841 0.61735491 0.17373671]\n",
      " [1.17630855 0.44873221 0.05695673]\n",
      " [1.82977337 1.39946016 0.45442286]\n",
      " [2.31647053 1.20902171 0.44115258]\n",
      " [1.26864614 0.2157873  0.14866084]\n",
      " [1.55166661 0.79435325 0.20294026]\n",
      " [1.20545384 0.27595028 0.15259364]\n",
      " [1.95276253 1.06401086 0.31099113]\n",
      " [1.1501317  0.30657976 0.05747977]\n",
      " [1.34961413 0.6854126  0.14684862]\n",
      " [1.35485525 0.75538125 0.12726709]\n",
      " [1.07857833 0.28666087 0.05166311]\n",
      " [1.01413864 0.30532585 0.05261114]\n",
      " [1.45802095 0.51128054 0.13570212]\n",
      " [1.26070048 0.64023035 0.08345487]\n",
      " [1.6359725  0.80805463 0.18177432]\n",
      " [1.67291036 1.35768442 0.41031686]\n",
      " [1.52732921 0.54930108 0.16243501]\n",
      " [0.98762481 0.26940624 0.02234999]\n",
      " [1.11463816 0.25036153 0.05851196]\n",
      " [1.90643728 1.08991882 0.31377256]\n",
      " [1.47472975 0.735952   0.24845426]\n",
      " [1.12894805 0.44269059 0.05757986]\n",
      " [0.98970851 0.28042882 0.05876055]\n",
      " [1.36747232 0.65157983 0.12199877]\n",
      " [1.59949269 0.7475408  0.21643984]\n",
      " [1.43080036 0.68327921 0.1534353 ]\n",
      " [1.22650448 0.27712108 0.1199034 ]\n",
      " [1.58604816 0.7973211  0.21464214]\n",
      " [1.64768601 0.85833357 0.27461904]\n",
      " [1.45871329 0.62721013 0.15409093]\n",
      " [1.32642293 0.33706488 0.10312824]\n",
      " [1.23289704 0.47369204 0.08165371]\n",
      " [1.34340565 0.64576431 0.20803814]\n",
      " [1.04344952 0.29244052 0.07206881]]\n"
     ]
    }
   ],
   "source": [
    "S = comp_distance(datapoints, mediods_initial, 2)\n",
    "print(S)"
   ]
  },
  {
   "cell_type": "code",
   "execution_count": 16,
   "metadata": {
    "id": "cIUGzFqoe6em"
   },
   "outputs": [],
   "source": [
    "def assign_labels(S):\n",
    "    return np.argmin(S, axis=1)"
   ]
  },
  {
   "cell_type": "code",
   "execution_count": 17,
   "metadata": {
    "colab": {
     "base_uri": "https://localhost:8080/"
    },
    "id": "tQ3FqXfUgiIA",
    "outputId": "1efcb591-6db0-4c85-e042-26a67f4458c6"
   },
   "outputs": [
    {
     "name": "stdout",
     "output_type": "stream",
     "text": [
      "[0 0 0 0 0 0 0 0 1 0 0 0 0 0 0 0 0 0 0 0 0 0 0 0 0 0 0 0 0 0 0 0 0 0 0 0 0\n",
      " 0 1 0 0 1 0 0 0 1 0 0 0 0 2 2 2 1 2 2 2 1 2 1 1 2 1 2 1 2 2 1 2 1 2 2 2 2\n",
      " 2 2 2 2 2 1 1 1 1 2 2 2 2 2 2 1 1 2 1 1 1 2 2 2 1 2 2 2 2 2 2 2 1 2 2 2 2\n",
      " 2 2 2 2 2 2 2 2 2 2 2 2 2 2 2 2 2 2 2 2 2 2 2 2 2 2 2 2 2 2 2 2 2 2 2 2 2\n",
      " 2 2]\n"
     ]
    }
   ],
   "source": [
    "labels = assign_labels(S)\n",
    "print(labels)"
   ]
  },
  {
   "cell_type": "code",
   "execution_count": 18,
   "metadata": {
    "id": "2zI-Hvlbh5xG"
   },
   "outputs": [],
   "source": [
    "def update_mediods(X, mediods, p):\n",
    "    S = comp_distance(datapoints, mediods, p)\n",
    "    labels = assign_labels(S)\n",
    "\n",
    "    out_mediods = mediods\n",
    "\n",
    "      for i in set(labels):\n",
    "        avg_dissimilarity = np.sum(comp_distance(datapoints, mediods[i], p))\n",
    "\n",
    "        cluster_points = datapoints[labels==i]\n",
    "\n",
    "        for datap in cluster_points:\n",
    "                new_medoid = datap\n",
    "                new_dissimilarity= np.sum(comp_distance(datapoints, datap, p))\n",
    "\n",
    "                if new_dissimilarity < avg_dissimilarity :\n",
    "                    avg_dissimilarity = new_dissimilarity\n",
    "\n",
    "                    out_mediods[i] = datap\n",
    "\n",
    "    return out_mediods"
   ]
  },
  {
   "cell_type": "code",
   "execution_count": 19,
   "metadata": {
    "id": "JrXi0QowqF7S"
   },
   "outputs": [],
   "source": [
    "def has_converged(old_mediods, mediods):\n",
    "      return set([tuple(x) for x in old_mediods]) == set([tuple(x) for x in mediods])"
   ]
  },
  {
   "cell_type": "code",
   "execution_count": 20,
   "metadata": {
    "id": "zkloW3Y6rHDJ"
   },
   "outputs": [],
   "source": [
    "def kmediods(X, k, p, starting_mediods=None, max_steps=np.inf):\n",
    "    if starting_mediods is None:\n",
    "        mediods = init_mediods(X, k)\n",
    "    else:\n",
    "        mediods = starting_mediods\n",
    "\n",
    "    converged = False\n",
    "    labels = np.zeros(len(X))\n",
    "\n",
    "    i = 1\n",
    "\n",
    "    while (not converged) and (i<=max_steps):\n",
    "        old_mediods = mediods.copy()\n",
    "\n",
    "        S = comp_distance(X, mediods, p)\n",
    "\n",
    "        labels = assign_labels(S)\n",
    "\n",
    "        mediods = update_mediods(X, mediods, p)\n",
    "\n",
    "        converged = has_converged(old_mediods, mediods)\n",
    "        i+=1\n",
    "\n",
    "    return (mediods, labels)"
   ]
  },
  {
   "cell_type": "markdown",
   "metadata": {
    "id": "I8SnrozquHqB"
   },
   "source": [
    "# Results"
   ]
  },
  {
   "cell_type": "code",
   "execution_count": 21,
   "metadata": {
    "id": "WSA3b_Itr_1N"
   },
   "outputs": [],
   "source": [
    "results = kmediods(datapoints, 3, 2)\n",
    "final_mediods = results[0]\n",
    "data['clusters'] = results[1]"
   ]
  },
  {
   "cell_type": "code",
   "execution_count": 22,
   "metadata": {
    "colab": {
     "base_uri": "https://localhost:8080/"
    },
    "id": "S3nNjSjPsIg4",
    "outputId": "acb123c1-b25f-45cb-93ab-5a5ecdd6b268"
   },
   "outputs": [
    {
     "name": "stdout",
     "output_type": "stream",
     "text": [
      "[[-0.50602233  0.03149772  0.02792876]\n",
      " [-0.00863477 -0.0852503   0.05439602]\n",
      " [ 0.03280025 -0.04193611  0.01613489]]\n"
     ]
    }
   ],
   "source": [
    "print(final_mediods)"
   ]
  },
  {
   "cell_type": "code",
   "execution_count": 23,
   "metadata": {
    "colab": {
     "base_uri": "https://localhost:8080/"
    },
    "id": "WLico9uRsdxb",
    "outputId": "52e87e01-5cbc-460e-ad93-b228b341c4c0"
   },
   "outputs": [
    {
     "name": "stdout",
     "output_type": "stream",
     "text": [
      "0      0\n",
      "1      0\n",
      "2      0\n",
      "3      0\n",
      "4      0\n",
      "      ..\n",
      "145    2\n",
      "146    2\n",
      "147    2\n",
      "148    2\n",
      "149    2\n",
      "Name: clusters, Length: 150, dtype: int64\n"
     ]
    }
   ],
   "source": [
    "print(data['clusters'])"
   ]
  },
  {
   "cell_type": "markdown",
   "metadata": {},
   "source": [
    "# Analysis"
   ]
  },
  {
   "cell_type": "markdown",
   "metadata": {},
   "source": [
    "- Given two Numpy arrays of {0, 1} labels, returns a new boolean array indicating at which locations the input arrays have the same label (i.e., the corresponding entry is True). This function can consider \"inexact\" matches. That is, if `exact` is False, then the function will assume the {0, 1} labels may be regarded as the same up to a swapping of the labels. This feature allows\n",
    "    a = [0, 0, 1, 1, 0, 1, 1]\n",
    "    b = [1, 1, 0, 0, 1, 0, 0]\n",
    "    to be regarded as equal. (That is, use `exact=False` when you only care about \"relative\" labeling.)"
   ]
  },
  {
   "cell_type": "code",
   "execution_count": 24,
   "metadata": {},
   "outputs": [],
   "source": [
    "def mark_matches(a, b, exact=False):\n",
    "    \n",
    "    assert a.shape == b.shape\n",
    "    a_int = a.astype(dtype=int)\n",
    "    b_int = b.astype(dtype=int)\n",
    "    all_axes = tuple(range(len(a.shape)))\n",
    "    assert ((a_int == 0) | (a_int == 1) | (a_int == 2)).all()\n",
    "    assert ((b_int == 0) | (b_int == 1) | (b_int == 2)).all()\n",
    "    \n",
    "    exact_matches = (a_int == b_int)\n",
    "    if exact:\n",
    "        return exact_matches\n",
    "\n",
    "    assert exact == False\n",
    "    num_exact_matches = np.sum(exact_matches)\n",
    "    if (2*num_exact_matches) >= np.prod (a.shape):\n",
    "        return exact_matches\n",
    "    return exact_matches == False # Invert"
   ]
  },
  {
   "cell_type": "code",
   "execution_count": 25,
   "metadata": {},
   "outputs": [],
   "source": [
    "def count_matches(a, b, exact=False):\n",
    "    matches = mark_matches(a, b, exact=exact)\n",
    "    return np.sum(matches)"
   ]
  },
  {
   "cell_type": "code",
   "execution_count": 26,
   "metadata": {},
   "outputs": [
    {
     "name": "stdout",
     "output_type": "stream",
     "text": [
      "142 matches out of 150 data points (~ 94.7%)\n"
     ]
    }
   ],
   "source": [
    "n_matches = count_matches(labels, data['clusters'])\n",
    "print(n_matches, \"matches out of\",len(data), \"data points\", \"(~ {:.1f}%)\".format(100.0 * n_matches / len(labels)))"
   ]
  },
  {
   "cell_type": "code",
   "execution_count": 27,
   "metadata": {
    "colab": {
     "base_uri": "https://localhost:8080/",
     "height": 423
    },
    "id": "lB9d-abgzwJv",
    "outputId": "de29b031-7060-4ac7-f67a-7c73a2b8c3e4"
   },
   "outputs": [
    {
     "data": {
      "text/html": [
       "<div>\n",
       "<style scoped>\n",
       "    .dataframe tbody tr th:only-of-type {\n",
       "        vertical-align: middle;\n",
       "    }\n",
       "\n",
       "    .dataframe tbody tr th {\n",
       "        vertical-align: top;\n",
       "    }\n",
       "\n",
       "    .dataframe thead th {\n",
       "        text-align: right;\n",
       "    }\n",
       "</style>\n",
       "<table border=\"1\" class=\"dataframe\">\n",
       "  <thead>\n",
       "    <tr style=\"text-align: right;\">\n",
       "      <th></th>\n",
       "      <th>Actual</th>\n",
       "      <th>Predicted</th>\n",
       "    </tr>\n",
       "  </thead>\n",
       "  <tbody>\n",
       "    <tr>\n",
       "      <th>0</th>\n",
       "      <td>0</td>\n",
       "      <td>0</td>\n",
       "    </tr>\n",
       "    <tr>\n",
       "      <th>1</th>\n",
       "      <td>0</td>\n",
       "      <td>0</td>\n",
       "    </tr>\n",
       "    <tr>\n",
       "      <th>2</th>\n",
       "      <td>0</td>\n",
       "      <td>0</td>\n",
       "    </tr>\n",
       "    <tr>\n",
       "      <th>3</th>\n",
       "      <td>0</td>\n",
       "      <td>0</td>\n",
       "    </tr>\n",
       "    <tr>\n",
       "      <th>4</th>\n",
       "      <td>0</td>\n",
       "      <td>0</td>\n",
       "    </tr>\n",
       "    <tr>\n",
       "      <th>...</th>\n",
       "      <td>...</td>\n",
       "      <td>...</td>\n",
       "    </tr>\n",
       "    <tr>\n",
       "      <th>145</th>\n",
       "      <td>2</td>\n",
       "      <td>2</td>\n",
       "    </tr>\n",
       "    <tr>\n",
       "      <th>146</th>\n",
       "      <td>2</td>\n",
       "      <td>2</td>\n",
       "    </tr>\n",
       "    <tr>\n",
       "      <th>147</th>\n",
       "      <td>2</td>\n",
       "      <td>2</td>\n",
       "    </tr>\n",
       "    <tr>\n",
       "      <th>148</th>\n",
       "      <td>2</td>\n",
       "      <td>2</td>\n",
       "    </tr>\n",
       "    <tr>\n",
       "      <th>149</th>\n",
       "      <td>2</td>\n",
       "      <td>2</td>\n",
       "    </tr>\n",
       "  </tbody>\n",
       "</table>\n",
       "<p>150 rows × 2 columns</p>\n",
       "</div>"
      ],
      "text/plain": [
       "     Actual  Predicted\n",
       "0         0          0\n",
       "1         0          0\n",
       "2         0          0\n",
       "3         0          0\n",
       "4         0          0\n",
       "..      ...        ...\n",
       "145       2          2\n",
       "146       2          2\n",
       "147       2          2\n",
       "148       2          2\n",
       "149       2          2\n",
       "\n",
       "[150 rows x 2 columns]"
      ]
     },
     "execution_count": 27,
     "metadata": {},
     "output_type": "execute_result"
    }
   ],
   "source": [
    "Comparison = pd.DataFrame({'Actual':y_data,'Predicted':results[1]})\n",
    "Comparison"
   ]
  }
 ],
 "metadata": {
  "colab": {
   "name": "ML Lab Final Assessment (Project).ipynb",
   "provenance": []
  },
  "kernelspec": {
   "display_name": "Python 3",
   "language": "python",
   "name": "python3"
  },
  "language_info": {
   "codemirror_mode": {
    "name": "ipython",
    "version": 3
   },
   "file_extension": ".py",
   "mimetype": "text/x-python",
   "name": "python",
   "nbconvert_exporter": "python",
   "pygments_lexer": "ipython3",
   "version": "3.8.8"
  }
 },
 "nbformat": 4,
 "nbformat_minor": 1
}
